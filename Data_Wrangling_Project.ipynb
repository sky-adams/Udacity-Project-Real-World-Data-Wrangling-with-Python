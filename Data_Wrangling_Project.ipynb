{
 "cells": [
  {
   "cell_type": "markdown",
   "metadata": {
    "id": "GNIwe5N7s0e_"
   },
   "source": [
    "# Real-world Data Wrangling"
   ]
  },
  {
   "cell_type": "markdown",
   "metadata": {
    "id": "_BG63Tpg8ep_"
   },
   "source": [
    "In this project, you will apply the skills you acquired in the course to gather and wrangle real-world data with two datasets of your choice.\n",
    "\n",
    "You will retrieve and extract the data, assess the data programmatically and visually, accross elements of data quality and structure, and implement a cleaning strategy for the data. You will then store the updated data into your selected database/data store, combine the data, and answer a research question with the datasets.\n",
    "\n",
    "Throughout the process, you are expected to:\n",
    "\n",
    "1. Explain your decisions towards methods used for gathering, assessing, cleaning, storing, and answering the research question\n",
    "2. Write code comments so your code is more readable\n",
    "\n",
    "Before you start, install the some of the required packages. "
   ]
  },
  {
   "cell_type": "code",
   "execution_count": 1,
   "metadata": {},
   "outputs": [
    {
     "name": "stdout",
     "output_type": "stream",
     "text": [
      "Defaulting to user installation because normal site-packages is not writeable\n",
      "Collecting kaggle==1.6.12\n",
      "  Downloading kaggle-1.6.12.tar.gz (79 kB)\n",
      "\u001b[2K     \u001b[90m━━━━━━━━━━━━━━━━━━━━━━━━━━━━━━━━━━━━━━━━\u001b[0m \u001b[32m79.7/79.7 kB\u001b[0m \u001b[31m1.4 MB/s\u001b[0m eta \u001b[36m0:00:00\u001b[0ma \u001b[36m0:00:01\u001b[0m\n",
      "\u001b[?25h  Preparing metadata (setup.py) ... \u001b[?25ldone\n",
      "\u001b[?25hRequirement already satisfied: six>=1.10 in /opt/conda/lib/python3.10/site-packages (from kaggle==1.6.12) (1.16.0)\n",
      "Collecting certifi>=2023.7.22\n",
      "  Downloading certifi-2025.6.15-py3-none-any.whl (157 kB)\n",
      "\u001b[2K     \u001b[90m━━━━━━━━━━━━━━━━━━━━━━━━━━━━━━━━━━━━━━━\u001b[0m \u001b[32m157.7/157.7 kB\u001b[0m \u001b[31m6.3 MB/s\u001b[0m eta \u001b[36m0:00:00\u001b[0m\n",
      "\u001b[?25hRequirement already satisfied: python-dateutil in /opt/conda/lib/python3.10/site-packages (from kaggle==1.6.12) (2.9.0.post0)\n",
      "Requirement already satisfied: requests in /opt/conda/lib/python3.10/site-packages (from kaggle==1.6.12) (2.29.0)\n",
      "Requirement already satisfied: tqdm in /opt/conda/lib/python3.10/site-packages (from kaggle==1.6.12) (4.65.0)\n",
      "Collecting python-slugify\n",
      "  Downloading python_slugify-8.0.4-py2.py3-none-any.whl (10 kB)\n",
      "Requirement already satisfied: urllib3 in /opt/conda/lib/python3.10/site-packages (from kaggle==1.6.12) (1.26.15)\n",
      "Requirement already satisfied: bleach in /opt/conda/lib/python3.10/site-packages (from kaggle==1.6.12) (6.1.0)\n",
      "Requirement already satisfied: webencodings in /opt/conda/lib/python3.10/site-packages (from bleach->kaggle==1.6.12) (0.5.1)\n",
      "Collecting text-unidecode>=1.3\n",
      "  Downloading text_unidecode-1.3-py2.py3-none-any.whl (78 kB)\n",
      "\u001b[2K     \u001b[90m━━━━━━━━━━━━━━━━━━━━━━━━━━━━━━━━━━━━━━━━\u001b[0m \u001b[32m78.2/78.2 kB\u001b[0m \u001b[31m10.3 MB/s\u001b[0m eta \u001b[36m0:00:00\u001b[0m\n",
      "\u001b[?25hRequirement already satisfied: idna<4,>=2.5 in /opt/conda/lib/python3.10/site-packages (from requests->kaggle==1.6.12) (3.4)\n",
      "Requirement already satisfied: charset-normalizer<4,>=2 in /opt/conda/lib/python3.10/site-packages (from requests->kaggle==1.6.12) (2.0.4)\n",
      "Building wheels for collected packages: kaggle\n",
      "  Building wheel for kaggle (setup.py) ... \u001b[?25ldone\n",
      "\u001b[?25h  Created wheel for kaggle: filename=kaggle-1.6.12-py3-none-any.whl size=102969 sha256=f86761dde5787e3e527552319e8c5a4755f3b7e954f58e17848bb3a465ff523f\n",
      "  Stored in directory: /home/student/.cache/pip/wheels/1e/0b/7c/50f8e89c3d2f82838dbd7afeddffbb9357003009ada98216c7\n",
      "Successfully built kaggle\n",
      "Installing collected packages: text-unidecode, python-slugify, certifi, kaggle\n",
      "\u001b[33m  WARNING: The script slugify is installed in '/home/student/.local/bin' which is not on PATH.\n",
      "  Consider adding this directory to PATH or, if you prefer to suppress this warning, use --no-warn-script-location.\u001b[0m\u001b[33m\n",
      "\u001b[0m\u001b[33m  WARNING: The script kaggle is installed in '/home/student/.local/bin' which is not on PATH.\n",
      "  Consider adding this directory to PATH or, if you prefer to suppress this warning, use --no-warn-script-location.\u001b[0m\u001b[33m\n",
      "\u001b[0mSuccessfully installed certifi-2025.6.15 kaggle-1.6.12 python-slugify-8.0.4 text-unidecode-1.3\n"
     ]
    }
   ],
   "source": [
    "!python -m pip install kaggle==1.6.12"
   ]
  },
  {
   "cell_type": "code",
   "execution_count": 2,
   "metadata": {},
   "outputs": [
    {
     "name": "stdout",
     "output_type": "stream",
     "text": [
      "Collecting ucimlrepo\n",
      "  Downloading ucimlrepo-0.0.7-py3-none-any.whl (8.0 kB)\n",
      "Collecting numpy==1.24.3\n",
      "  Downloading numpy-1.24.3-cp310-cp310-manylinux_2_17_x86_64.manylinux2014_x86_64.whl (17.3 MB)\n",
      "\u001b[2K     \u001b[90m━━━━━━━━━━━━━━━━━━━━━━━━━━━━━━━━━━━━━━━━\u001b[0m \u001b[32m17.3/17.3 MB\u001b[0m \u001b[31m61.5 MB/s\u001b[0m eta \u001b[36m0:00:00\u001b[0m00:01\u001b[0m00:01\u001b[0m\n",
      "\u001b[?25hCollecting certifi>=2020.12.5\n",
      "  Using cached certifi-2025.6.15-py3-none-any.whl (157 kB)\n",
      "Collecting pandas>=1.0.0\n",
      "  Downloading pandas-2.3.0-cp310-cp310-manylinux_2_17_x86_64.manylinux2014_x86_64.whl (12.3 MB)\n",
      "\u001b[2K     \u001b[90m━━━━━━━━━━━━━━━━━━━━━━━━━━━━━━━━━━━━━━━━\u001b[0m \u001b[32m12.3/12.3 MB\u001b[0m \u001b[31m60.3 MB/s\u001b[0m eta \u001b[36m0:00:00\u001b[0m00:01\u001b[0m00:01\u001b[0m\n",
      "\u001b[?25hCollecting pytz>=2020.1\n",
      "  Downloading pytz-2025.2-py2.py3-none-any.whl (509 kB)\n",
      "\u001b[2K     \u001b[90m━━━━━━━━━━━━━━━━━━━━━━━━━━━━━━━━━━━━━━\u001b[0m \u001b[32m509.2/509.2 kB\u001b[0m \u001b[31m37.1 MB/s\u001b[0m eta \u001b[36m0:00:00\u001b[0m\n",
      "\u001b[?25hCollecting python-dateutil>=2.8.2\n",
      "  Downloading python_dateutil-2.9.0.post0-py2.py3-none-any.whl (229 kB)\n",
      "\u001b[2K     \u001b[90m━━━━━━━━━━━━━━━━━━━━━━━━━━━━━━━━━━━━━━\u001b[0m \u001b[32m229.9/229.9 kB\u001b[0m \u001b[31m26.2 MB/s\u001b[0m eta \u001b[36m0:00:00\u001b[0m\n",
      "\u001b[?25hCollecting tzdata>=2022.7\n",
      "  Downloading tzdata-2025.2-py2.py3-none-any.whl (347 kB)\n",
      "\u001b[2K     \u001b[90m━━━━━━━━━━━━━━━━━━━━━━━━━━━━━━━━━━━━━━\u001b[0m \u001b[32m347.8/347.8 kB\u001b[0m \u001b[31m29.3 MB/s\u001b[0m eta \u001b[36m0:00:00\u001b[0m\n",
      "\u001b[?25hCollecting six>=1.5\n",
      "  Downloading six-1.17.0-py2.py3-none-any.whl (11 kB)\n",
      "Installing collected packages: pytz, tzdata, six, numpy, certifi, python-dateutil, pandas, ucimlrepo\n",
      "Successfully installed certifi-2025.6.15 numpy-1.24.3 pandas-2.3.0 python-dateutil-2.9.0.post0 pytz-2025.2 six-1.17.0 tzdata-2025.2 ucimlrepo-0.0.7\n"
     ]
    }
   ],
   "source": [
    "!pip install --target=/workspace ucimlrepo numpy==1.24.3"
   ]
  },
  {
   "cell_type": "code",
   "execution_count": 11,
   "metadata": {},
   "outputs": [
    {
     "name": "stdout",
     "output_type": "stream",
     "text": [
      "Collecting xlrd\n",
      "  Downloading xlrd-2.0.2-py2.py3-none-any.whl (96 kB)\n",
      "\u001b[2K     \u001b[90m━━━━━━━━━━━━━━━━━━━━━━━━━━━━━━━━━━━━━━━━\u001b[0m \u001b[32m96.6/96.6 kB\u001b[0m \u001b[31m1.4 MB/s\u001b[0m eta \u001b[36m0:00:00\u001b[0ma \u001b[36m0:00:01\u001b[0m\n",
      "\u001b[?25hInstalling collected packages: xlrd\n",
      "Successfully installed xlrd-2.0.2\n",
      "\u001b[33mWARNING: Target directory /workspace/bin already exists. Specify --upgrade to force replacement.\u001b[0m\u001b[33m\n",
      "\u001b[0m"
     ]
    }
   ],
   "source": [
    "!pip install --target=/workspace xlrd"
   ]
  },
  {
   "cell_type": "markdown",
   "metadata": {},
   "source": [
    "**Note:** Restart the kernel to use updated package(s)."
   ]
  },
  {
   "cell_type": "markdown",
   "metadata": {
    "id": "lDYDkH-Zs7Nn"
   },
   "source": [
    "## 1. Gather data\n",
    "\n",
    "In this section, you will extract data using two different data gathering methods and combine the data. Use at least two different types of data-gathering methods."
   ]
  },
  {
   "cell_type": "markdown",
   "metadata": {
    "id": "LbN7z7rcuqpO"
   },
   "source": [
    "### **1.1.** Problem Statement\n",
    "I want to look at trends in bird populations in Santa Barbara, California, over time. I also want to explore whether or not there is a correlation between annual rainfall and the size of bird populations."
   ]
  },
  {
   "cell_type": "markdown",
   "metadata": {
    "id": "gi6swhjSYqu2"
   },
   "source": [
    "Finding the right datasets can be time-consuming. Here we provide you with a list of websites to start with. But we encourage you to explore more websites and find the data that interests you.\n",
    "\n",
    "* Google Dataset Search https://datasetsearch.research.google.com/\n",
    "* The U.S. Government’s open data https://data.gov/\n",
    "* UCI Machine Learning Repository https://archive.ics.uci.edu/ml/index.php\n"
   ]
  },
  {
   "cell_type": "markdown",
   "metadata": {
    "id": "8AQfBAdUypMm"
   },
   "source": [
    "### **1.2.** Gather at least two datasets using two different data gathering methods\n",
    "\n",
    "List of data gathering methods:\n",
    "\n",
    "- Download data manually\n",
    "- Programmatically downloading files\n",
    "- Gather data by accessing APIs\n",
    "- Gather and extract data from HTML files using BeautifulSoup\n",
    "- Extract data from a SQL database\n",
    "\n",
    "Each dataset must have at least two variables, and have greater than 500 data samples within each dataset.\n",
    "\n",
    "For each dataset, briefly describe why you picked the dataset and the gathering method (2-3 full sentences), including the names and significance of the variables in the dataset. Show your work (e.g., if using an API to download the data, please include a snippet of your code). \n",
    "\n",
    "Load the dataset programmtically into this notebook."
   ]
  },
  {
   "cell_type": "code",
   "execution_count": 1,
   "metadata": {},
   "outputs": [],
   "source": [
    "import pandas as pd\n",
    "import numpy as np\n",
    "import requests\n",
    "import os"
   ]
  },
  {
   "cell_type": "markdown",
   "metadata": {
    "id": "7e6gS0wL1KTu"
   },
   "source": [
    "#### Santa Barbara's Christmas Bird Count Data\n",
    "\n",
    "Type: CSV File\n",
    "\n",
    "Method: The data was gathered using the \"Downloading files\" method from the Audubon Society's Christmas Bird Count data website, https://netapp.audubon.org/CBCObservation/Historical/ResultsByCount.aspx#. The data includes all available data from the years 1900 to 2023 for Santa Barbara.\n",
    "\n",
    "Dataset variables:\n",
    "\n",
    "*   COM_NAME: common name of the bird followed by the scientific name (these two names are aplit into separate columns in the cleaning process)\n",
    "*   CountYear: the year the bird count occurred (this column also contains the date of the count and other labels that will be removed in the cleaning process)\n",
    "*   how_manyCW: how many birds were counted on the day of the count (if a species was seen during count week but not on count day, it will have the value \"cw\" according to this website: https://www.audubon.org/conservation/science/christmas-bird-count/christmas-bird-count-compiler-resources)\n",
    "*   NumberByPartyHours: There is no official documentation that I could find on this, but it is likely the number of birds counted divided by the number of party hours for that year. The number of party hours is the sum of how many hours each party (group of birders working together) spent birding.\n",
    "*   Flags: It is unclear what the values in this column denote. I couldn't find any documentation on it."
   ]
  },
  {
   "cell_type": "code",
   "execution_count": 2,
   "metadata": {
    "id": "Su8E0uLuYkHU"
   },
   "outputs": [
    {
     "data": {
      "text/html": [
       "<div>\n",
       "<style scoped>\n",
       "    .dataframe tbody tr th:only-of-type {\n",
       "        vertical-align: middle;\n",
       "    }\n",
       "\n",
       "    .dataframe tbody tr th {\n",
       "        vertical-align: top;\n",
       "    }\n",
       "\n",
       "    .dataframe thead th {\n",
       "        text-align: right;\n",
       "    }\n",
       "</style>\n",
       "<table border=\"1\" class=\"dataframe\">\n",
       "  <thead>\n",
       "    <tr style=\"text-align: right;\">\n",
       "      <th></th>\n",
       "      <th>0</th>\n",
       "      <th>1</th>\n",
       "      <th>2</th>\n",
       "      <th>3</th>\n",
       "      <th>4</th>\n",
       "      <th>5</th>\n",
       "      <th>6</th>\n",
       "      <th>7</th>\n",
       "      <th>8</th>\n",
       "    </tr>\n",
       "  </thead>\n",
       "  <tbody>\n",
       "    <tr>\n",
       "      <th>0</th>\n",
       "      <td>CircleName</td>\n",
       "      <td>Abbrev</td>\n",
       "      <td>LatLong</td>\n",
       "      <td>NaN</td>\n",
       "      <td>NaN</td>\n",
       "      <td>NaN</td>\n",
       "      <td>NaN</td>\n",
       "      <td>NaN</td>\n",
       "      <td>NaN</td>\n",
       "    </tr>\n",
       "    <tr>\n",
       "      <th>1</th>\n",
       "      <td>Santa Barbara</td>\n",
       "      <td>CASB</td>\n",
       "      <td>34.4512000000/-119.7627000000</td>\n",
       "      <td>NaN</td>\n",
       "      <td>NaN</td>\n",
       "      <td>NaN</td>\n",
       "      <td>NaN</td>\n",
       "      <td>NaN</td>\n",
       "      <td>NaN</td>\n",
       "    </tr>\n",
       "    <tr>\n",
       "      <th>2</th>\n",
       "      <td>CountYear3</td>\n",
       "      <td>LowTemp</td>\n",
       "      <td>HighTemp</td>\n",
       "      <td>AMCloud</td>\n",
       "      <td>PMClouds</td>\n",
       "      <td>AMRain</td>\n",
       "      <td>PMRain</td>\n",
       "      <td>AMSnow</td>\n",
       "      <td>PMSnow</td>\n",
       "    </tr>\n",
       "    <tr>\n",
       "      <th>3</th>\n",
       "      <td>124</td>\n",
       "      <td>48.0 Fahrenheit</td>\n",
       "      <td>65.0 Fahrenheit</td>\n",
       "      <td>Cloudy</td>\n",
       "      <td>Cloudy</td>\n",
       "      <td>Light</td>\n",
       "      <td>NaN</td>\n",
       "      <td>NaN</td>\n",
       "      <td>NaN</td>\n",
       "    </tr>\n",
       "    <tr>\n",
       "      <th>4</th>\n",
       "      <td>123</td>\n",
       "      <td>54.0 Fahrenheit</td>\n",
       "      <td>60.0 Fahrenheit</td>\n",
       "      <td>Cloudy</td>\n",
       "      <td>Cloudy</td>\n",
       "      <td>Heavy\\r\\nLight</td>\n",
       "      <td>Heavy\\r\\nLight</td>\n",
       "      <td>NaN</td>\n",
       "      <td>NaN</td>\n",
       "    </tr>\n",
       "  </tbody>\n",
       "</table>\n",
       "</div>"
      ],
      "text/plain": [
       "               0                1                              2        3  \\\n",
       "0     CircleName           Abbrev                        LatLong      NaN   \n",
       "1  Santa Barbara             CASB  34.4512000000/-119.7627000000      NaN   \n",
       "2     CountYear3          LowTemp                       HighTemp  AMCloud   \n",
       "3            124  48.0 Fahrenheit                65.0 Fahrenheit   Cloudy   \n",
       "4            123  54.0 Fahrenheit                60.0 Fahrenheit   Cloudy   \n",
       "\n",
       "          4               5               6       7       8  \n",
       "0       NaN             NaN             NaN     NaN     NaN  \n",
       "1       NaN             NaN             NaN     NaN     NaN  \n",
       "2  PMClouds          AMRain          PMRain  AMSnow  PMSnow  \n",
       "3    Cloudy           Light             NaN     NaN     NaN  \n",
       "4    Cloudy  Heavy\\r\\nLight  Heavy\\r\\nLight     NaN     NaN  "
      ]
     },
     "execution_count": 2,
     "metadata": {},
     "output_type": "execute_result"
    }
   ],
   "source": [
    "#The CSV file contains multiple tables with varying numbers of columns, so set header to none and names to a range with the max number of columns in a table\n",
    "cbc_df = pd.read_csv('data/SB_CBC1900-2023Results.csv', header=None, names=range(9))\n",
    "cbc_df.head()"
   ]
  },
  {
   "cell_type": "code",
   "execution_count": 3,
   "metadata": {},
   "outputs": [
    {
     "data": {
      "text/html": [
       "<div>\n",
       "<style scoped>\n",
       "    .dataframe tbody tr th:only-of-type {\n",
       "        vertical-align: middle;\n",
       "    }\n",
       "\n",
       "    .dataframe tbody tr th {\n",
       "        vertical-align: top;\n",
       "    }\n",
       "\n",
       "    .dataframe thead th {\n",
       "        text-align: right;\n",
       "    }\n",
       "</style>\n",
       "<table border=\"1\" class=\"dataframe\">\n",
       "  <thead>\n",
       "    <tr style=\"text-align: right;\">\n",
       "      <th></th>\n",
       "      <th>0</th>\n",
       "      <th>1</th>\n",
       "      <th>2</th>\n",
       "      <th>3</th>\n",
       "      <th>4</th>\n",
       "      <th>5</th>\n",
       "      <th>6</th>\n",
       "      <th>7</th>\n",
       "      <th>8</th>\n",
       "    </tr>\n",
       "  </thead>\n",
       "  <tbody>\n",
       "    <tr>\n",
       "      <th>244</th>\n",
       "      <td>COM_NAME</td>\n",
       "      <td>CountYear</td>\n",
       "      <td>how_manyCW</td>\n",
       "      <td>NumberByPartyHours</td>\n",
       "      <td>Flags</td>\n",
       "      <td>NaN</td>\n",
       "      <td>NaN</td>\n",
       "      <td>NaN</td>\n",
       "      <td>NaN</td>\n",
       "    </tr>\n",
       "  </tbody>\n",
       "</table>\n",
       "</div>"
      ],
      "text/plain": [
       "            0          1           2                   3      4    5    6  \\\n",
       "244  COM_NAME  CountYear  how_manyCW  NumberByPartyHours  Flags  NaN  NaN   \n",
       "\n",
       "       7    8  \n",
       "244  NaN  NaN  "
      ]
     },
     "execution_count": 3,
     "metadata": {},
     "output_type": "execute_result"
    }
   ],
   "source": [
    "#find the row containing the headers for the table with the bird counts\n",
    "header_row = cbc_df[cbc_df[0] == 'COM_NAME']\n",
    "header_row"
   ]
  },
  {
   "cell_type": "code",
   "execution_count": 4,
   "metadata": {},
   "outputs": [
    {
     "data": {
      "text/html": [
       "<div>\n",
       "<style scoped>\n",
       "    .dataframe tbody tr th:only-of-type {\n",
       "        vertical-align: middle;\n",
       "    }\n",
       "\n",
       "    .dataframe tbody tr th {\n",
       "        vertical-align: top;\n",
       "    }\n",
       "\n",
       "    .dataframe thead th {\n",
       "        text-align: right;\n",
       "    }\n",
       "</style>\n",
       "<table border=\"1\" class=\"dataframe\">\n",
       "  <thead>\n",
       "    <tr style=\"text-align: right;\">\n",
       "      <th></th>\n",
       "      <th>0</th>\n",
       "      <th>1</th>\n",
       "      <th>2</th>\n",
       "      <th>3</th>\n",
       "      <th>4</th>\n",
       "      <th>5</th>\n",
       "      <th>6</th>\n",
       "      <th>7</th>\n",
       "      <th>8</th>\n",
       "    </tr>\n",
       "  </thead>\n",
       "  <tbody>\n",
       "    <tr>\n",
       "      <th>42742</th>\n",
       "      <td>CountYear1</td>\n",
       "      <td>FirstName</td>\n",
       "      <td>LastName</td>\n",
       "      <td>Email</td>\n",
       "      <td>IsPrimary</td>\n",
       "      <td>NaN</td>\n",
       "      <td>NaN</td>\n",
       "      <td>NaN</td>\n",
       "      <td>NaN</td>\n",
       "    </tr>\n",
       "  </tbody>\n",
       "</table>\n",
       "</div>"
      ],
      "text/plain": [
       "                0          1         2      3          4    5    6    7    8\n",
       "42742  CountYear1  FirstName  LastName  Email  IsPrimary  NaN  NaN  NaN  NaN"
      ]
     },
     "execution_count": 4,
     "metadata": {},
     "output_type": "execute_result"
    }
   ],
   "source": [
    "#find the row containing the header for the next table after the bird count table\n",
    "next_header_row = cbc_df[cbc_df[0] == 'CountYear1']\n",
    "next_header_row"
   ]
  },
  {
   "cell_type": "code",
   "execution_count": 5,
   "metadata": {},
   "outputs": [
    {
     "data": {
      "text/html": [
       "<div>\n",
       "<style scoped>\n",
       "    .dataframe tbody tr th:only-of-type {\n",
       "        vertical-align: middle;\n",
       "    }\n",
       "\n",
       "    .dataframe tbody tr th {\n",
       "        vertical-align: top;\n",
       "    }\n",
       "\n",
       "    .dataframe thead th {\n",
       "        text-align: right;\n",
       "    }\n",
       "</style>\n",
       "<table border=\"1\" class=\"dataframe\">\n",
       "  <thead>\n",
       "    <tr style=\"text-align: right;\">\n",
       "      <th></th>\n",
       "      <th>COM_NAME</th>\n",
       "      <th>CountYear</th>\n",
       "      <th>how_manyCW</th>\n",
       "      <th>NumberByPartyHours</th>\n",
       "      <th>Flags</th>\n",
       "    </tr>\n",
       "  </thead>\n",
       "  <tbody>\n",
       "    <tr>\n",
       "      <th>0</th>\n",
       "      <td>Acorn Woodpecker\\r\\n[Melanerpes formicivorus]</td>\n",
       "      <td>1902 [3]\\r\\nCount Date: 12/26/1902\\r\\n# Partic...</td>\n",
       "      <td>3</td>\n",
       "      <td>0.0000</td>\n",
       "      <td>NaN</td>\n",
       "    </tr>\n",
       "    <tr>\n",
       "      <th>1</th>\n",
       "      <td>Acorn Woodpecker\\r\\n[Melanerpes formicivorus]</td>\n",
       "      <td>1910 [11]\\r\\nCount Date: 12/24/1910\\r\\n# Parti...</td>\n",
       "      <td>1</td>\n",
       "      <td>0.0000</td>\n",
       "      <td>NaN</td>\n",
       "    </tr>\n",
       "    <tr>\n",
       "      <th>2</th>\n",
       "      <td>Acorn Woodpecker\\r\\n[Melanerpes formicivorus]</td>\n",
       "      <td>1911 [12]\\r\\nCount Date: 12/23/1911\\r\\n# Parti...</td>\n",
       "      <td>30</td>\n",
       "      <td>0.0000</td>\n",
       "      <td>NaN</td>\n",
       "    </tr>\n",
       "    <tr>\n",
       "      <th>3</th>\n",
       "      <td>Acorn Woodpecker\\r\\n[Melanerpes formicivorus]</td>\n",
       "      <td>1912 [13]\\r\\nCount Date: 12/26/1912\\r\\n# Parti...</td>\n",
       "      <td>25</td>\n",
       "      <td>0.0000</td>\n",
       "      <td>NaN</td>\n",
       "    </tr>\n",
       "    <tr>\n",
       "      <th>4</th>\n",
       "      <td>Acorn Woodpecker\\r\\n[Melanerpes formicivorus]</td>\n",
       "      <td>1913 [14]\\r\\nCount Date: 12/27/1913\\r\\n# Parti...</td>\n",
       "      <td>20</td>\n",
       "      <td>0.0000</td>\n",
       "      <td>NaN</td>\n",
       "    </tr>\n",
       "  </tbody>\n",
       "</table>\n",
       "</div>"
      ],
      "text/plain": [
       "                                        COM_NAME  \\\n",
       "0  Acorn Woodpecker\\r\\n[Melanerpes formicivorus]   \n",
       "1  Acorn Woodpecker\\r\\n[Melanerpes formicivorus]   \n",
       "2  Acorn Woodpecker\\r\\n[Melanerpes formicivorus]   \n",
       "3  Acorn Woodpecker\\r\\n[Melanerpes formicivorus]   \n",
       "4  Acorn Woodpecker\\r\\n[Melanerpes formicivorus]   \n",
       "\n",
       "                                           CountYear how_manyCW  \\\n",
       "0  1902 [3]\\r\\nCount Date: 12/26/1902\\r\\n# Partic...          3   \n",
       "1  1910 [11]\\r\\nCount Date: 12/24/1910\\r\\n# Parti...          1   \n",
       "2  1911 [12]\\r\\nCount Date: 12/23/1911\\r\\n# Parti...         30   \n",
       "3  1912 [13]\\r\\nCount Date: 12/26/1912\\r\\n# Parti...         25   \n",
       "4  1913 [14]\\r\\nCount Date: 12/27/1913\\r\\n# Parti...         20   \n",
       "\n",
       "  NumberByPartyHours Flags  \n",
       "0             0.0000   NaN  \n",
       "1             0.0000   NaN  \n",
       "2             0.0000   NaN  \n",
       "3             0.0000   NaN  \n",
       "4             0.0000   NaN  "
      ]
     },
     "execution_count": 5,
     "metadata": {},
     "output_type": "execute_result"
    }
   ],
   "source": [
    "#get the subset of the data that contains the bird counts and the header\n",
    "bird_counts = cbc_df.iloc[header_row.index[0]:next_header_row.index[0]]\n",
    "new_header = bird_counts.iloc[0]\n",
    "bird_counts = bird_counts[1:]\n",
    "bird_counts.columns = new_header\n",
    "bird_counts.reset_index(inplace=True, drop=True)\n",
    "bird_counts = bird_counts.rename_axis(None, axis=1) #remove name of index column\n",
    "bird_counts.drop(columns=np.nan, inplace=True) #drop the extra columns\n",
    "bird_counts.head()"
   ]
  },
  {
   "cell_type": "code",
   "execution_count": 6,
   "metadata": {},
   "outputs": [
    {
     "data": {
      "text/html": [
       "<div>\n",
       "<style scoped>\n",
       "    .dataframe tbody tr th:only-of-type {\n",
       "        vertical-align: middle;\n",
       "    }\n",
       "\n",
       "    .dataframe tbody tr th {\n",
       "        vertical-align: top;\n",
       "    }\n",
       "\n",
       "    .dataframe thead th {\n",
       "        text-align: right;\n",
       "    }\n",
       "</style>\n",
       "<table border=\"1\" class=\"dataframe\">\n",
       "  <thead>\n",
       "    <tr style=\"text-align: right;\">\n",
       "      <th></th>\n",
       "      <th>COM_NAME</th>\n",
       "      <th>CountYear</th>\n",
       "      <th>how_manyCW</th>\n",
       "      <th>NumberByPartyHours</th>\n",
       "      <th>Flags</th>\n",
       "    </tr>\n",
       "  </thead>\n",
       "  <tbody>\n",
       "    <tr>\n",
       "      <th>42492</th>\n",
       "      <td>Zone-tailed Hawk\\r\\n[Buteo albonotatus]</td>\n",
       "      <td>2019 [120]\\r\\nCount Date: 1/4/2020\\r\\n# Partic...</td>\n",
       "      <td>cw</td>\n",
       "      <td>0.0000</td>\n",
       "      <td>NaN</td>\n",
       "    </tr>\n",
       "    <tr>\n",
       "      <th>42493</th>\n",
       "      <td>Zone-tailed Hawk\\r\\n[Buteo albonotatus]</td>\n",
       "      <td>2020 [121]\\r\\nCount Date: 1/2/2021\\r\\n# Partic...</td>\n",
       "      <td>NaN</td>\n",
       "      <td>NaN</td>\n",
       "      <td>NaN</td>\n",
       "    </tr>\n",
       "    <tr>\n",
       "      <th>42494</th>\n",
       "      <td>Zone-tailed Hawk\\r\\n[Buteo albonotatus]</td>\n",
       "      <td>2021 [122]\\r\\nCount Date: 1/1/2022\\r\\n# Partic...</td>\n",
       "      <td>NaN</td>\n",
       "      <td>NaN</td>\n",
       "      <td>NaN</td>\n",
       "    </tr>\n",
       "    <tr>\n",
       "      <th>42495</th>\n",
       "      <td>Zone-tailed Hawk\\r\\n[Buteo albonotatus]</td>\n",
       "      <td>2022 [123]\\r\\nCount Date: 12/31/2022\\r\\n# Part...</td>\n",
       "      <td>NaN</td>\n",
       "      <td>NaN</td>\n",
       "      <td>NaN</td>\n",
       "    </tr>\n",
       "    <tr>\n",
       "      <th>42496</th>\n",
       "      <td>Zone-tailed Hawk\\r\\n[Buteo albonotatus]</td>\n",
       "      <td>2023 [124]\\r\\nCount Date: 12/30/2023\\r\\n# Part...</td>\n",
       "      <td>NaN</td>\n",
       "      <td>NaN</td>\n",
       "      <td>NaN</td>\n",
       "    </tr>\n",
       "  </tbody>\n",
       "</table>\n",
       "</div>"
      ],
      "text/plain": [
       "                                      COM_NAME  \\\n",
       "42492  Zone-tailed Hawk\\r\\n[Buteo albonotatus]   \n",
       "42493  Zone-tailed Hawk\\r\\n[Buteo albonotatus]   \n",
       "42494  Zone-tailed Hawk\\r\\n[Buteo albonotatus]   \n",
       "42495  Zone-tailed Hawk\\r\\n[Buteo albonotatus]   \n",
       "42496  Zone-tailed Hawk\\r\\n[Buteo albonotatus]   \n",
       "\n",
       "                                               CountYear how_manyCW  \\\n",
       "42492  2019 [120]\\r\\nCount Date: 1/4/2020\\r\\n# Partic...         cw   \n",
       "42493  2020 [121]\\r\\nCount Date: 1/2/2021\\r\\n# Partic...        NaN   \n",
       "42494  2021 [122]\\r\\nCount Date: 1/1/2022\\r\\n# Partic...        NaN   \n",
       "42495  2022 [123]\\r\\nCount Date: 12/31/2022\\r\\n# Part...        NaN   \n",
       "42496  2023 [124]\\r\\nCount Date: 12/30/2023\\r\\n# Part...        NaN   \n",
       "\n",
       "      NumberByPartyHours Flags  \n",
       "42492             0.0000   NaN  \n",
       "42493                NaN   NaN  \n",
       "42494                NaN   NaN  \n",
       "42495                NaN   NaN  \n",
       "42496                NaN   NaN  "
      ]
     },
     "execution_count": 6,
     "metadata": {},
     "output_type": "execute_result"
    }
   ],
   "source": [
    "bird_counts.tail()"
   ]
  },
  {
   "cell_type": "markdown",
   "metadata": {
    "id": "hoUjq1tPzz7P"
   },
   "source": [
    "#### Santa Barbara's Daily Precipitation Data\n",
    "\n",
    "Type: XLS File\n",
    "\n",
    "Method: The data was gathered by programmatically downloading the file from the County of Santa Barbara's website (https://files.countyofsb.org/pwd/hydrology/historic%20data/rainfall/XLS%20Dailys/234dailys.xls).\n",
    "\n",
    "Dataset variables:\n",
    "\n",
    "*   station id: the id of the station collecting the data\n",
    "*   water year: the water year the date of the data point falls in (a water year begins on October 1 of a given year and ends on September 30 of the following calendar year)\n",
    "*   year: the year the data point was collected\n",
    "*   month: the month the data point was collected\n",
    "*   day: the day of the month that the data point was collected\n",
    "*   daily rain: the amount of rain in inches as of 8 am for the previous 24 hours\n",
    "*   code: PR for preliminar data or E for estimated from nearby guage. The meaning of the numbers and other codes in this column are unclear."
   ]
  },
  {
   "cell_type": "code",
   "execution_count": 7,
   "metadata": {
    "id": "6zT0QxRyYmm7"
   },
   "outputs": [],
   "source": [
    "response = requests.get('https://files.countyofsb.org/pwd/hydrology/historic%20data/rainfall/XLS%20Dailys/234dailys.xls')\n",
    "response.raise_for_status()"
   ]
  },
  {
   "cell_type": "markdown",
   "metadata": {},
   "source": [
    "Optional data storing step: You may save your raw dataset files to the local data store before moving to the next step."
   ]
  },
  {
   "cell_type": "code",
   "execution_count": 8,
   "metadata": {},
   "outputs": [],
   "source": [
    "file_path = os.path.join('data', 'Santa_Barbara_daily_precipitation_data.xls')\n",
    "with open(file_path, mode = 'wb') as file:\n",
    "    file.write(response.content)"
   ]
  },
  {
   "cell_type": "code",
   "execution_count": 9,
   "metadata": {},
   "outputs": [
    {
     "data": {
      "text/html": [
       "<div>\n",
       "<style scoped>\n",
       "    .dataframe tbody tr th:only-of-type {\n",
       "        vertical-align: middle;\n",
       "    }\n",
       "\n",
       "    .dataframe tbody tr th {\n",
       "        vertical-align: top;\n",
       "    }\n",
       "\n",
       "    .dataframe thead th {\n",
       "        text-align: right;\n",
       "    }\n",
       "</style>\n",
       "<table border=\"1\" class=\"dataframe\">\n",
       "  <thead>\n",
       "    <tr style=\"text-align: right;\">\n",
       "      <th></th>\n",
       "      <th>date</th>\n",
       "      <th>station id</th>\n",
       "      <th>water year</th>\n",
       "      <th>daily rain</th>\n",
       "      <th>code</th>\n",
       "    </tr>\n",
       "  </thead>\n",
       "  <tbody>\n",
       "    <tr>\n",
       "      <th>0</th>\n",
       "      <td>1899-10-11</td>\n",
       "      <td>234</td>\n",
       "      <td>1900</td>\n",
       "      <td>0.12</td>\n",
       "      <td>E339</td>\n",
       "    </tr>\n",
       "    <tr>\n",
       "      <th>1</th>\n",
       "      <td>1899-10-12</td>\n",
       "      <td>234</td>\n",
       "      <td>1900</td>\n",
       "      <td>0.08</td>\n",
       "      <td>E339</td>\n",
       "    </tr>\n",
       "    <tr>\n",
       "      <th>2</th>\n",
       "      <td>1899-10-13</td>\n",
       "      <td>234</td>\n",
       "      <td>1900</td>\n",
       "      <td>1.30</td>\n",
       "      <td>E339</td>\n",
       "    </tr>\n",
       "    <tr>\n",
       "      <th>3</th>\n",
       "      <td>1899-10-14</td>\n",
       "      <td>234</td>\n",
       "      <td>1900</td>\n",
       "      <td>0.02</td>\n",
       "      <td>E339</td>\n",
       "    </tr>\n",
       "    <tr>\n",
       "      <th>4</th>\n",
       "      <td>1899-10-21</td>\n",
       "      <td>234</td>\n",
       "      <td>1900</td>\n",
       "      <td>0.46</td>\n",
       "      <td>E339</td>\n",
       "    </tr>\n",
       "  </tbody>\n",
       "</table>\n",
       "</div>"
      ],
      "text/plain": [
       "        date  station id  water year  daily rain  code\n",
       "0 1899-10-11         234        1900        0.12  E339\n",
       "1 1899-10-12         234        1900        0.08  E339\n",
       "2 1899-10-13         234        1900        1.30  E339\n",
       "3 1899-10-14         234        1900        0.02  E339\n",
       "4 1899-10-21         234        1900        0.46  E339"
      ]
     },
     "execution_count": 9,
     "metadata": {},
     "output_type": "execute_result"
    }
   ],
   "source": [
    "rain_data = pd.read_excel(file_path, header=8, skiprows=1, parse_dates={'date':['year', 'month', 'day']})\n",
    "rain_data.head()"
   ]
  },
  {
   "cell_type": "code",
   "execution_count": 10,
   "metadata": {},
   "outputs": [
    {
     "data": {
      "text/html": [
       "<div>\n",
       "<style scoped>\n",
       "    .dataframe tbody tr th:only-of-type {\n",
       "        vertical-align: middle;\n",
       "    }\n",
       "\n",
       "    .dataframe tbody tr th {\n",
       "        vertical-align: top;\n",
       "    }\n",
       "\n",
       "    .dataframe thead th {\n",
       "        text-align: right;\n",
       "    }\n",
       "</style>\n",
       "<table border=\"1\" class=\"dataframe\">\n",
       "  <thead>\n",
       "    <tr style=\"text-align: right;\">\n",
       "      <th></th>\n",
       "      <th>date</th>\n",
       "      <th>station id</th>\n",
       "      <th>water year</th>\n",
       "      <th>daily rain</th>\n",
       "      <th>code</th>\n",
       "    </tr>\n",
       "  </thead>\n",
       "  <tbody>\n",
       "    <tr>\n",
       "      <th>4755</th>\n",
       "      <td>2025-04-26</td>\n",
       "      <td>234</td>\n",
       "      <td>2025</td>\n",
       "      <td>0.27</td>\n",
       "      <td>PR</td>\n",
       "    </tr>\n",
       "    <tr>\n",
       "      <th>4756</th>\n",
       "      <td>2025-04-27</td>\n",
       "      <td>234</td>\n",
       "      <td>2025</td>\n",
       "      <td>0.08</td>\n",
       "      <td>PR</td>\n",
       "    </tr>\n",
       "    <tr>\n",
       "      <th>4757</th>\n",
       "      <td>2025-05-05</td>\n",
       "      <td>234</td>\n",
       "      <td>2025</td>\n",
       "      <td>0.01</td>\n",
       "      <td>PR</td>\n",
       "    </tr>\n",
       "    <tr>\n",
       "      <th>4758</th>\n",
       "      <td>2025-06-03</td>\n",
       "      <td>234</td>\n",
       "      <td>2025</td>\n",
       "      <td>0.01</td>\n",
       "      <td>PR</td>\n",
       "    </tr>\n",
       "    <tr>\n",
       "      <th>4759</th>\n",
       "      <td>2025-06-16</td>\n",
       "      <td>234</td>\n",
       "      <td>2025</td>\n",
       "      <td>0.00</td>\n",
       "      <td>PR</td>\n",
       "    </tr>\n",
       "  </tbody>\n",
       "</table>\n",
       "</div>"
      ],
      "text/plain": [
       "           date  station id  water year  daily rain code\n",
       "4755 2025-04-26         234        2025        0.27   PR\n",
       "4756 2025-04-27         234        2025        0.08   PR\n",
       "4757 2025-05-05         234        2025        0.01   PR\n",
       "4758 2025-06-03         234        2025        0.01   PR\n",
       "4759 2025-06-16         234        2025        0.00   PR"
      ]
     },
     "execution_count": 10,
     "metadata": {},
     "output_type": "execute_result"
    }
   ],
   "source": [
    "rain_data.tail()"
   ]
  },
  {
   "cell_type": "markdown",
   "metadata": {
    "id": "QwSWIVmotLgV"
   },
   "source": [
    "## 2. Assess data\n",
    "\n",
    "Assess the data according to data quality and tidiness metrics using the report below.\n",
    "\n",
    "List **two** data quality issues and **two** tidiness issues. Assess each data issue visually **and** programmatically, then briefly describe the issue you find.  **Make sure you include justifications for the methods you use for the assessment.**"
   ]
  },
  {
   "cell_type": "markdown",
   "metadata": {
    "id": "adaK2iPNzVu4"
   },
   "source": [
    "### Quality Issue 1:"
   ]
  },
  {
   "cell_type": "code",
   "execution_count": 11,
   "metadata": {
    "id": "SpW59kh-zl8d"
   },
   "outputs": [
    {
     "data": {
      "text/html": [
       "<div>\n",
       "<style scoped>\n",
       "    .dataframe tbody tr th:only-of-type {\n",
       "        vertical-align: middle;\n",
       "    }\n",
       "\n",
       "    .dataframe tbody tr th {\n",
       "        vertical-align: top;\n",
       "    }\n",
       "\n",
       "    .dataframe thead th {\n",
       "        text-align: right;\n",
       "    }\n",
       "</style>\n",
       "<table border=\"1\" class=\"dataframe\">\n",
       "  <thead>\n",
       "    <tr style=\"text-align: right;\">\n",
       "      <th></th>\n",
       "      <th>COM_NAME</th>\n",
       "      <th>CountYear</th>\n",
       "      <th>how_manyCW</th>\n",
       "      <th>NumberByPartyHours</th>\n",
       "      <th>Flags</th>\n",
       "    </tr>\n",
       "  </thead>\n",
       "  <tbody>\n",
       "    <tr>\n",
       "      <th>0</th>\n",
       "      <td>Acorn Woodpecker\\r\\n[Melanerpes formicivorus]</td>\n",
       "      <td>1902 [3]\\r\\nCount Date: 12/26/1902\\r\\n# Partic...</td>\n",
       "      <td>3</td>\n",
       "      <td>0.0000</td>\n",
       "      <td>NaN</td>\n",
       "    </tr>\n",
       "    <tr>\n",
       "      <th>1</th>\n",
       "      <td>Acorn Woodpecker\\r\\n[Melanerpes formicivorus]</td>\n",
       "      <td>1910 [11]\\r\\nCount Date: 12/24/1910\\r\\n# Parti...</td>\n",
       "      <td>1</td>\n",
       "      <td>0.0000</td>\n",
       "      <td>NaN</td>\n",
       "    </tr>\n",
       "    <tr>\n",
       "      <th>2</th>\n",
       "      <td>Acorn Woodpecker\\r\\n[Melanerpes formicivorus]</td>\n",
       "      <td>1911 [12]\\r\\nCount Date: 12/23/1911\\r\\n# Parti...</td>\n",
       "      <td>30</td>\n",
       "      <td>0.0000</td>\n",
       "      <td>NaN</td>\n",
       "    </tr>\n",
       "    <tr>\n",
       "      <th>3</th>\n",
       "      <td>Acorn Woodpecker\\r\\n[Melanerpes formicivorus]</td>\n",
       "      <td>1912 [13]\\r\\nCount Date: 12/26/1912\\r\\n# Parti...</td>\n",
       "      <td>25</td>\n",
       "      <td>0.0000</td>\n",
       "      <td>NaN</td>\n",
       "    </tr>\n",
       "    <tr>\n",
       "      <th>4</th>\n",
       "      <td>Acorn Woodpecker\\r\\n[Melanerpes formicivorus]</td>\n",
       "      <td>1913 [14]\\r\\nCount Date: 12/27/1913\\r\\n# Parti...</td>\n",
       "      <td>20</td>\n",
       "      <td>0.0000</td>\n",
       "      <td>NaN</td>\n",
       "    </tr>\n",
       "  </tbody>\n",
       "</table>\n",
       "</div>"
      ],
      "text/plain": [
       "                                        COM_NAME  \\\n",
       "0  Acorn Woodpecker\\r\\n[Melanerpes formicivorus]   \n",
       "1  Acorn Woodpecker\\r\\n[Melanerpes formicivorus]   \n",
       "2  Acorn Woodpecker\\r\\n[Melanerpes formicivorus]   \n",
       "3  Acorn Woodpecker\\r\\n[Melanerpes formicivorus]   \n",
       "4  Acorn Woodpecker\\r\\n[Melanerpes formicivorus]   \n",
       "\n",
       "                                           CountYear how_manyCW  \\\n",
       "0  1902 [3]\\r\\nCount Date: 12/26/1902\\r\\n# Partic...          3   \n",
       "1  1910 [11]\\r\\nCount Date: 12/24/1910\\r\\n# Parti...          1   \n",
       "2  1911 [12]\\r\\nCount Date: 12/23/1911\\r\\n# Parti...         30   \n",
       "3  1912 [13]\\r\\nCount Date: 12/26/1912\\r\\n# Parti...         25   \n",
       "4  1913 [14]\\r\\nCount Date: 12/27/1913\\r\\n# Parti...         20   \n",
       "\n",
       "  NumberByPartyHours Flags  \n",
       "0             0.0000   NaN  \n",
       "1             0.0000   NaN  \n",
       "2             0.0000   NaN  \n",
       "3             0.0000   NaN  \n",
       "4             0.0000   NaN  "
      ]
     },
     "execution_count": 11,
     "metadata": {},
     "output_type": "execute_result"
    }
   ],
   "source": [
    "bird_counts.head()"
   ]
  },
  {
   "cell_type": "code",
   "execution_count": 12,
   "metadata": {
    "id": "-qfcocStzsKg"
   },
   "outputs": [
    {
     "data": {
      "text/plain": [
       "COM_NAME\n",
       "Acorn Woodpecker\\r\\n[Melanerpes formicivorus]                  91\n",
       "Red-breasted Nuthatch\\r\\n[Sitta canadensis]                    91\n",
       "Ridgway's Rail (Light-footed)\\r\\n[Rallus obsoletus levipes]    91\n",
       "Rhinoceros Auklet\\r\\n[Cerorhinca monocerata]                   91\n",
       "Redhead\\r\\n[Aythya americana]                                  91\n",
       "                                                               ..\n",
       "Golden Eagle\\r\\n[Aquila chrysaetos]                            91\n",
       "Glossy/White-faced Ibis\\r\\n[Plegadis falcinellus/chihi]        91\n",
       "Glaucous-winged Gull\\r\\n[Larus glaucescens]                    91\n",
       "Glaucous Gull\\r\\n[Larus hyperboreus]                           91\n",
       "Zone-tailed Hawk\\r\\n[Buteo albonotatus]                        91\n",
       "Name: count, Length: 467, dtype: int64"
      ]
     },
     "execution_count": 12,
     "metadata": {},
     "output_type": "execute_result"
    }
   ],
   "source": [
    "bird_counts['COM_NAME'].value_counts()"
   ]
  },
  {
   "cell_type": "code",
   "execution_count": 27,
   "metadata": {},
   "outputs": [
    {
     "data": {
      "text/plain": [
       "{1900,\n",
       " 1901,\n",
       " 1903,\n",
       " 1904,\n",
       " 1905,\n",
       " 1906,\n",
       " 1907,\n",
       " 1908,\n",
       " 1909,\n",
       " 1916,\n",
       " 1918,\n",
       " 1922,\n",
       " 1940,\n",
       " 1941,\n",
       " 1942,\n",
       " 1943,\n",
       " 1944,\n",
       " 1945,\n",
       " 1946,\n",
       " 1947,\n",
       " 1948,\n",
       " 1949,\n",
       " 1950,\n",
       " 1951,\n",
       " 1952,\n",
       " 1953,\n",
       " 1954,\n",
       " 1955,\n",
       " 1956,\n",
       " 1957,\n",
       " 1958,\n",
       " 1959,\n",
       " 1960}"
      ]
     },
     "execution_count": 27,
     "metadata": {},
     "output_type": "execute_result"
    }
   ],
   "source": [
    "years_included = [int(y[0:4]) for y in bird_counts['CountYear'].unique()] \n",
    "all_years = range(1900,2024)\n",
    "missing_years = set(all_years) - set(years_included)\n",
    "missing_years"
   ]
  },
  {
   "cell_type": "code",
   "execution_count": 28,
   "metadata": {},
   "outputs": [
    {
     "data": {
      "text/plain": [
       "33"
      ]
     },
     "execution_count": 28,
     "metadata": {},
     "output_type": "execute_result"
    }
   ],
   "source": [
    "len(missing_years)"
   ]
  },
  {
   "cell_type": "markdown",
   "metadata": {},
   "source": [
    "Issue and justification: Data from 33 years is not available. This is first apparent when looking at the value counts for the species of birds, and confirmed by comparing the years in the data set to the years in the range from 1900 to 2023, which is the range of years the website said data was available for.  \n",
    "It is also useful to note that since the value counts for each bird's name is 91, and 91 + 33 is 124, which is the number of years for which we wanted data (1900-2023), the common name of each bird is likely listed once for each year that data is available."
   ]
  },
  {
   "cell_type": "markdown",
   "metadata": {
    "id": "8Be77N4I1AmE"
   },
   "source": [
    "### Quality Issue 2:"
   ]
  },
  {
   "cell_type": "code",
   "execution_count": 14,
   "metadata": {},
   "outputs": [
    {
     "name": "stdout",
     "output_type": "stream",
     "text": [
      "<class 'pandas.core.frame.DataFrame'>\n",
      "RangeIndex: 42497 entries, 0 to 42496\n",
      "Data columns (total 5 columns):\n",
      " #   Column              Non-Null Count  Dtype \n",
      "---  ------              --------------  ----- \n",
      " 0   COM_NAME            42497 non-null  object\n",
      " 1   CountYear           42497 non-null  object\n",
      " 2   how_manyCW          16141 non-null  object\n",
      " 3   NumberByPartyHours  16141 non-null  object\n",
      " 4   Flags               682 non-null    object\n",
      "dtypes: object(5)\n",
      "memory usage: 1.6+ MB\n"
     ]
    }
   ],
   "source": [
    "bird_counts.info()"
   ]
  },
  {
   "cell_type": "code",
   "execution_count": 15,
   "metadata": {
    "id": "iMhHyiyLM2I3"
   },
   "outputs": [
    {
     "data": {
      "text/html": [
       "<div>\n",
       "<style scoped>\n",
       "    .dataframe tbody tr th:only-of-type {\n",
       "        vertical-align: middle;\n",
       "    }\n",
       "\n",
       "    .dataframe tbody tr th {\n",
       "        vertical-align: top;\n",
       "    }\n",
       "\n",
       "    .dataframe thead th {\n",
       "        text-align: right;\n",
       "    }\n",
       "</style>\n",
       "<table border=\"1\" class=\"dataframe\">\n",
       "  <thead>\n",
       "    <tr style=\"text-align: right;\">\n",
       "      <th></th>\n",
       "      <th>COM_NAME</th>\n",
       "      <th>CountYear</th>\n",
       "      <th>how_manyCW</th>\n",
       "      <th>NumberByPartyHours</th>\n",
       "      <th>Flags</th>\n",
       "    </tr>\n",
       "  </thead>\n",
       "  <tbody>\n",
       "    <tr>\n",
       "      <th>91</th>\n",
       "      <td>African Collared-Dove\\r\\n[Streptopelia roseogr...</td>\n",
       "      <td>1902 [3]\\r\\nCount Date: 12/26/1902\\r\\n# Partic...</td>\n",
       "      <td>NaN</td>\n",
       "      <td>NaN</td>\n",
       "      <td>NaN</td>\n",
       "    </tr>\n",
       "    <tr>\n",
       "      <th>92</th>\n",
       "      <td>African Collared-Dove\\r\\n[Streptopelia roseogr...</td>\n",
       "      <td>1910 [11]\\r\\nCount Date: 12/24/1910\\r\\n# Parti...</td>\n",
       "      <td>NaN</td>\n",
       "      <td>NaN</td>\n",
       "      <td>NaN</td>\n",
       "    </tr>\n",
       "    <tr>\n",
       "      <th>93</th>\n",
       "      <td>African Collared-Dove\\r\\n[Streptopelia roseogr...</td>\n",
       "      <td>1911 [12]\\r\\nCount Date: 12/23/1911\\r\\n# Parti...</td>\n",
       "      <td>NaN</td>\n",
       "      <td>NaN</td>\n",
       "      <td>NaN</td>\n",
       "    </tr>\n",
       "    <tr>\n",
       "      <th>94</th>\n",
       "      <td>African Collared-Dove\\r\\n[Streptopelia roseogr...</td>\n",
       "      <td>1912 [13]\\r\\nCount Date: 12/26/1912\\r\\n# Parti...</td>\n",
       "      <td>NaN</td>\n",
       "      <td>NaN</td>\n",
       "      <td>NaN</td>\n",
       "    </tr>\n",
       "    <tr>\n",
       "      <th>95</th>\n",
       "      <td>African Collared-Dove\\r\\n[Streptopelia roseogr...</td>\n",
       "      <td>1913 [14]\\r\\nCount Date: 12/27/1913\\r\\n# Parti...</td>\n",
       "      <td>NaN</td>\n",
       "      <td>NaN</td>\n",
       "      <td>NaN</td>\n",
       "    </tr>\n",
       "    <tr>\n",
       "      <th>...</th>\n",
       "      <td>...</td>\n",
       "      <td>...</td>\n",
       "      <td>...</td>\n",
       "      <td>...</td>\n",
       "      <td>...</td>\n",
       "    </tr>\n",
       "    <tr>\n",
       "      <th>42491</th>\n",
       "      <td>Zone-tailed Hawk\\r\\n[Buteo albonotatus]</td>\n",
       "      <td>2018 [119]\\r\\nCount Date: 1/5/2019\\r\\n# Partic...</td>\n",
       "      <td>NaN</td>\n",
       "      <td>NaN</td>\n",
       "      <td>NaN</td>\n",
       "    </tr>\n",
       "    <tr>\n",
       "      <th>42493</th>\n",
       "      <td>Zone-tailed Hawk\\r\\n[Buteo albonotatus]</td>\n",
       "      <td>2020 [121]\\r\\nCount Date: 1/2/2021\\r\\n# Partic...</td>\n",
       "      <td>NaN</td>\n",
       "      <td>NaN</td>\n",
       "      <td>NaN</td>\n",
       "    </tr>\n",
       "    <tr>\n",
       "      <th>42494</th>\n",
       "      <td>Zone-tailed Hawk\\r\\n[Buteo albonotatus]</td>\n",
       "      <td>2021 [122]\\r\\nCount Date: 1/1/2022\\r\\n# Partic...</td>\n",
       "      <td>NaN</td>\n",
       "      <td>NaN</td>\n",
       "      <td>NaN</td>\n",
       "    </tr>\n",
       "    <tr>\n",
       "      <th>42495</th>\n",
       "      <td>Zone-tailed Hawk\\r\\n[Buteo albonotatus]</td>\n",
       "      <td>2022 [123]\\r\\nCount Date: 12/31/2022\\r\\n# Part...</td>\n",
       "      <td>NaN</td>\n",
       "      <td>NaN</td>\n",
       "      <td>NaN</td>\n",
       "    </tr>\n",
       "    <tr>\n",
       "      <th>42496</th>\n",
       "      <td>Zone-tailed Hawk\\r\\n[Buteo albonotatus]</td>\n",
       "      <td>2023 [124]\\r\\nCount Date: 12/30/2023\\r\\n# Part...</td>\n",
       "      <td>NaN</td>\n",
       "      <td>NaN</td>\n",
       "      <td>NaN</td>\n",
       "    </tr>\n",
       "  </tbody>\n",
       "</table>\n",
       "<p>26356 rows × 5 columns</p>\n",
       "</div>"
      ],
      "text/plain": [
       "                                                COM_NAME  \\\n",
       "91     African Collared-Dove\\r\\n[Streptopelia roseogr...   \n",
       "92     African Collared-Dove\\r\\n[Streptopelia roseogr...   \n",
       "93     African Collared-Dove\\r\\n[Streptopelia roseogr...   \n",
       "94     African Collared-Dove\\r\\n[Streptopelia roseogr...   \n",
       "95     African Collared-Dove\\r\\n[Streptopelia roseogr...   \n",
       "...                                                  ...   \n",
       "42491            Zone-tailed Hawk\\r\\n[Buteo albonotatus]   \n",
       "42493            Zone-tailed Hawk\\r\\n[Buteo albonotatus]   \n",
       "42494            Zone-tailed Hawk\\r\\n[Buteo albonotatus]   \n",
       "42495            Zone-tailed Hawk\\r\\n[Buteo albonotatus]   \n",
       "42496            Zone-tailed Hawk\\r\\n[Buteo albonotatus]   \n",
       "\n",
       "                                               CountYear how_manyCW  \\\n",
       "91     1902 [3]\\r\\nCount Date: 12/26/1902\\r\\n# Partic...        NaN   \n",
       "92     1910 [11]\\r\\nCount Date: 12/24/1910\\r\\n# Parti...        NaN   \n",
       "93     1911 [12]\\r\\nCount Date: 12/23/1911\\r\\n# Parti...        NaN   \n",
       "94     1912 [13]\\r\\nCount Date: 12/26/1912\\r\\n# Parti...        NaN   \n",
       "95     1913 [14]\\r\\nCount Date: 12/27/1913\\r\\n# Parti...        NaN   \n",
       "...                                                  ...        ...   \n",
       "42491  2018 [119]\\r\\nCount Date: 1/5/2019\\r\\n# Partic...        NaN   \n",
       "42493  2020 [121]\\r\\nCount Date: 1/2/2021\\r\\n# Partic...        NaN   \n",
       "42494  2021 [122]\\r\\nCount Date: 1/1/2022\\r\\n# Partic...        NaN   \n",
       "42495  2022 [123]\\r\\nCount Date: 12/31/2022\\r\\n# Part...        NaN   \n",
       "42496  2023 [124]\\r\\nCount Date: 12/30/2023\\r\\n# Part...        NaN   \n",
       "\n",
       "      NumberByPartyHours Flags  \n",
       "91                   NaN   NaN  \n",
       "92                   NaN   NaN  \n",
       "93                   NaN   NaN  \n",
       "94                   NaN   NaN  \n",
       "95                   NaN   NaN  \n",
       "...                  ...   ...  \n",
       "42491                NaN   NaN  \n",
       "42493                NaN   NaN  \n",
       "42494                NaN   NaN  \n",
       "42495                NaN   NaN  \n",
       "42496                NaN   NaN  \n",
       "\n",
       "[26356 rows x 5 columns]"
      ]
     },
     "execution_count": 15,
     "metadata": {},
     "output_type": "execute_result"
    }
   ],
   "source": [
    "#check the rows with null values for how_manyCW to see if there are any notes or patterns to why they are null\n",
    "bird_counts[bird_counts['how_manyCW'].isnull()]"
   ]
  },
  {
   "cell_type": "code",
   "execution_count": 16,
   "metadata": {
    "id": "bnviRCUI-bb7"
   },
   "outputs": [
    {
     "data": {
      "text/html": [
       "<div>\n",
       "<style scoped>\n",
       "    .dataframe tbody tr th:only-of-type {\n",
       "        vertical-align: middle;\n",
       "    }\n",
       "\n",
       "    .dataframe tbody tr th {\n",
       "        vertical-align: top;\n",
       "    }\n",
       "\n",
       "    .dataframe thead th {\n",
       "        text-align: right;\n",
       "    }\n",
       "</style>\n",
       "<table border=\"1\" class=\"dataframe\">\n",
       "  <thead>\n",
       "    <tr style=\"text-align: right;\">\n",
       "      <th></th>\n",
       "      <th>COM_NAME</th>\n",
       "      <th>CountYear</th>\n",
       "      <th>how_manyCW</th>\n",
       "      <th>NumberByPartyHours</th>\n",
       "      <th>Flags</th>\n",
       "    </tr>\n",
       "  </thead>\n",
       "  <tbody>\n",
       "  </tbody>\n",
       "</table>\n",
       "</div>"
      ],
      "text/plain": [
       "Empty DataFrame\n",
       "Columns: [COM_NAME, CountYear, how_manyCW, NumberByPartyHours, Flags]\n",
       "Index: []"
      ]
     },
     "execution_count": 16,
     "metadata": {},
     "output_type": "execute_result"
    }
   ],
   "source": [
    "bird_counts[bird_counts['how_manyCW'] == '0']"
   ]
  },
  {
   "cell_type": "code",
   "execution_count": 17,
   "metadata": {},
   "outputs": [
    {
     "data": {
      "text/html": [
       "<div>\n",
       "<style scoped>\n",
       "    .dataframe tbody tr th:only-of-type {\n",
       "        vertical-align: middle;\n",
       "    }\n",
       "\n",
       "    .dataframe tbody tr th {\n",
       "        vertical-align: top;\n",
       "    }\n",
       "\n",
       "    .dataframe thead th {\n",
       "        text-align: right;\n",
       "    }\n",
       "</style>\n",
       "<table border=\"1\" class=\"dataframe\">\n",
       "  <thead>\n",
       "    <tr style=\"text-align: right;\">\n",
       "      <th></th>\n",
       "      <th>COM_NAME</th>\n",
       "      <th>CountYear</th>\n",
       "      <th>how_manyCW</th>\n",
       "      <th>NumberByPartyHours</th>\n",
       "      <th>Flags</th>\n",
       "    </tr>\n",
       "  </thead>\n",
       "  <tbody>\n",
       "    <tr>\n",
       "      <th>210</th>\n",
       "      <td>Allen's Hummingbird\\r\\n[Selasphorus sasin]</td>\n",
       "      <td>1961 [62]\\r\\nCount Date: 12/30/1961\\r\\n# Parti...</td>\n",
       "      <td>cw</td>\n",
       "      <td>0.0000</td>\n",
       "      <td>NaN</td>\n",
       "    </tr>\n",
       "    <tr>\n",
       "      <th>321</th>\n",
       "      <td>American Avocet\\r\\n[Recurvirostra americana]</td>\n",
       "      <td>1981 [82]\\r\\nCount Date: 1/2/1982\\r\\n# Partici...</td>\n",
       "      <td>cw</td>\n",
       "      <td>0.0000</td>\n",
       "      <td>NaN</td>\n",
       "    </tr>\n",
       "    <tr>\n",
       "      <th>334</th>\n",
       "      <td>American Avocet\\r\\n[Recurvirostra americana]</td>\n",
       "      <td>1994 [95]\\r\\nCount Date: 12/31/1994\\r\\n# Parti...</td>\n",
       "      <td>cw</td>\n",
       "      <td>0.0000</td>\n",
       "      <td>NaN</td>\n",
       "    </tr>\n",
       "    <tr>\n",
       "      <th>356</th>\n",
       "      <td>American Avocet\\r\\n[Recurvirostra americana]</td>\n",
       "      <td>2016 [117]\\r\\nCount Date: 12/31/2016\\r\\n# Part...</td>\n",
       "      <td>cw</td>\n",
       "      <td>0.0000</td>\n",
       "      <td>NaN</td>\n",
       "    </tr>\n",
       "    <tr>\n",
       "      <th>419</th>\n",
       "      <td>American Bittern\\r\\n[Botaurus lentiginosus]</td>\n",
       "      <td>1988 [89]\\r\\nCount Date: 12/31/1988\\r\\n# Parti...</td>\n",
       "      <td>cw</td>\n",
       "      <td>0.0000</td>\n",
       "      <td>NaN</td>\n",
       "    </tr>\n",
       "    <tr>\n",
       "      <th>...</th>\n",
       "      <td>...</td>\n",
       "      <td>...</td>\n",
       "      <td>...</td>\n",
       "      <td>...</td>\n",
       "      <td>...</td>\n",
       "    </tr>\n",
       "    <tr>\n",
       "      <th>41676</th>\n",
       "      <td>Yellow-bellied/Red-naped Sapsucker\\r\\n[Sphyrap...</td>\n",
       "      <td>2022 [123]\\r\\nCount Date: 12/31/2022\\r\\n# Part...</td>\n",
       "      <td>cw</td>\n",
       "      <td>0.0000</td>\n",
       "      <td>NaN</td>\n",
       "    </tr>\n",
       "    <tr>\n",
       "      <th>42158</th>\n",
       "      <td>Yellow-rumped Warbler (Audubon's)\\r\\n[Setophag...</td>\n",
       "      <td>1937 [38]\\r\\nCount Date: 12/20/1937\\r\\n# Parti...</td>\n",
       "      <td>cw</td>\n",
       "      <td>0.0000</td>\n",
       "      <td>NaN</td>\n",
       "    </tr>\n",
       "    <tr>\n",
       "      <th>42466</th>\n",
       "      <td>Zone-tailed Hawk\\r\\n[Buteo albonotatus]</td>\n",
       "      <td>1993 [94]\\r\\nCount Date: 1/1/1994\\r\\n# Partici...</td>\n",
       "      <td>cw</td>\n",
       "      <td>0.0000</td>\n",
       "      <td>NaN</td>\n",
       "    </tr>\n",
       "    <tr>\n",
       "      <th>42473</th>\n",
       "      <td>Zone-tailed Hawk\\r\\n[Buteo albonotatus]</td>\n",
       "      <td>2000 [101]\\r\\nCount Date: 12/30/2000\\r\\n# Part...</td>\n",
       "      <td>cw</td>\n",
       "      <td>0.0000</td>\n",
       "      <td>US,</td>\n",
       "    </tr>\n",
       "    <tr>\n",
       "      <th>42492</th>\n",
       "      <td>Zone-tailed Hawk\\r\\n[Buteo albonotatus]</td>\n",
       "      <td>2019 [120]\\r\\nCount Date: 1/4/2020\\r\\n# Partic...</td>\n",
       "      <td>cw</td>\n",
       "      <td>0.0000</td>\n",
       "      <td>NaN</td>\n",
       "    </tr>\n",
       "  </tbody>\n",
       "</table>\n",
       "<p>292 rows × 5 columns</p>\n",
       "</div>"
      ],
      "text/plain": [
       "                                                COM_NAME  \\\n",
       "210           Allen's Hummingbird\\r\\n[Selasphorus sasin]   \n",
       "321         American Avocet\\r\\n[Recurvirostra americana]   \n",
       "334         American Avocet\\r\\n[Recurvirostra americana]   \n",
       "356         American Avocet\\r\\n[Recurvirostra americana]   \n",
       "419          American Bittern\\r\\n[Botaurus lentiginosus]   \n",
       "...                                                  ...   \n",
       "41676  Yellow-bellied/Red-naped Sapsucker\\r\\n[Sphyrap...   \n",
       "42158  Yellow-rumped Warbler (Audubon's)\\r\\n[Setophag...   \n",
       "42466            Zone-tailed Hawk\\r\\n[Buteo albonotatus]   \n",
       "42473            Zone-tailed Hawk\\r\\n[Buteo albonotatus]   \n",
       "42492            Zone-tailed Hawk\\r\\n[Buteo albonotatus]   \n",
       "\n",
       "                                               CountYear how_manyCW  \\\n",
       "210    1961 [62]\\r\\nCount Date: 12/30/1961\\r\\n# Parti...         cw   \n",
       "321    1981 [82]\\r\\nCount Date: 1/2/1982\\r\\n# Partici...         cw   \n",
       "334    1994 [95]\\r\\nCount Date: 12/31/1994\\r\\n# Parti...         cw   \n",
       "356    2016 [117]\\r\\nCount Date: 12/31/2016\\r\\n# Part...         cw   \n",
       "419    1988 [89]\\r\\nCount Date: 12/31/1988\\r\\n# Parti...         cw   \n",
       "...                                                  ...        ...   \n",
       "41676  2022 [123]\\r\\nCount Date: 12/31/2022\\r\\n# Part...         cw   \n",
       "42158  1937 [38]\\r\\nCount Date: 12/20/1937\\r\\n# Parti...         cw   \n",
       "42466  1993 [94]\\r\\nCount Date: 1/1/1994\\r\\n# Partici...         cw   \n",
       "42473  2000 [101]\\r\\nCount Date: 12/30/2000\\r\\n# Part...         cw   \n",
       "42492  2019 [120]\\r\\nCount Date: 1/4/2020\\r\\n# Partic...         cw   \n",
       "\n",
       "      NumberByPartyHours Flags  \n",
       "210               0.0000   NaN  \n",
       "321               0.0000   NaN  \n",
       "334               0.0000   NaN  \n",
       "356               0.0000   NaN  \n",
       "419               0.0000   NaN  \n",
       "...                  ...   ...  \n",
       "41676             0.0000   NaN  \n",
       "42158             0.0000   NaN  \n",
       "42466             0.0000   NaN  \n",
       "42473             0.0000   US,  \n",
       "42492             0.0000   NaN  \n",
       "\n",
       "[292 rows x 5 columns]"
      ]
     },
     "execution_count": 17,
     "metadata": {},
     "output_type": "execute_result"
    }
   ],
   "source": [
    "bird_counts[bird_counts['how_manyCW'] == 'cw']"
   ]
  },
  {
   "cell_type": "code",
   "execution_count": 18,
   "metadata": {},
   "outputs": [
    {
     "data": {
      "text/html": [
       "<div>\n",
       "<style scoped>\n",
       "    .dataframe tbody tr th:only-of-type {\n",
       "        vertical-align: middle;\n",
       "    }\n",
       "\n",
       "    .dataframe tbody tr th {\n",
       "        vertical-align: top;\n",
       "    }\n",
       "\n",
       "    .dataframe thead th {\n",
       "        text-align: right;\n",
       "    }\n",
       "</style>\n",
       "<table border=\"1\" class=\"dataframe\">\n",
       "  <thead>\n",
       "    <tr style=\"text-align: right;\">\n",
       "      <th></th>\n",
       "      <th>COM_NAME</th>\n",
       "      <th>CountYear</th>\n",
       "      <th>how_manyCW</th>\n",
       "      <th>NumberByPartyHours</th>\n",
       "      <th>Flags</th>\n",
       "    </tr>\n",
       "  </thead>\n",
       "  <tbody>\n",
       "    <tr>\n",
       "      <th>0</th>\n",
       "      <td>Acorn Woodpecker\\r\\n[Melanerpes formicivorus]</td>\n",
       "      <td>1902 [3]\\r\\nCount Date: 12/26/1902\\r\\n# Partic...</td>\n",
       "      <td>3</td>\n",
       "      <td>0.0000</td>\n",
       "      <td>NaN</td>\n",
       "    </tr>\n",
       "    <tr>\n",
       "      <th>1</th>\n",
       "      <td>Acorn Woodpecker\\r\\n[Melanerpes formicivorus]</td>\n",
       "      <td>1910 [11]\\r\\nCount Date: 12/24/1910\\r\\n# Parti...</td>\n",
       "      <td>1</td>\n",
       "      <td>0.0000</td>\n",
       "      <td>NaN</td>\n",
       "    </tr>\n",
       "    <tr>\n",
       "      <th>2</th>\n",
       "      <td>Acorn Woodpecker\\r\\n[Melanerpes formicivorus]</td>\n",
       "      <td>1911 [12]\\r\\nCount Date: 12/23/1911\\r\\n# Parti...</td>\n",
       "      <td>30</td>\n",
       "      <td>0.0000</td>\n",
       "      <td>NaN</td>\n",
       "    </tr>\n",
       "    <tr>\n",
       "      <th>3</th>\n",
       "      <td>Acorn Woodpecker\\r\\n[Melanerpes formicivorus]</td>\n",
       "      <td>1912 [13]\\r\\nCount Date: 12/26/1912\\r\\n# Parti...</td>\n",
       "      <td>25</td>\n",
       "      <td>0.0000</td>\n",
       "      <td>NaN</td>\n",
       "    </tr>\n",
       "    <tr>\n",
       "      <th>4</th>\n",
       "      <td>Acorn Woodpecker\\r\\n[Melanerpes formicivorus]</td>\n",
       "      <td>1913 [14]\\r\\nCount Date: 12/27/1913\\r\\n# Parti...</td>\n",
       "      <td>20</td>\n",
       "      <td>0.0000</td>\n",
       "      <td>NaN</td>\n",
       "    </tr>\n",
       "    <tr>\n",
       "      <th>...</th>\n",
       "      <td>...</td>\n",
       "      <td>...</td>\n",
       "      <td>...</td>\n",
       "      <td>...</td>\n",
       "      <td>...</td>\n",
       "    </tr>\n",
       "    <tr>\n",
       "      <th>42476</th>\n",
       "      <td>Zone-tailed Hawk\\r\\n[Buteo albonotatus]</td>\n",
       "      <td>2003 [104]\\r\\nCount Date: 1/3/2004\\r\\n# Partic...</td>\n",
       "      <td>1</td>\n",
       "      <td>0.0030</td>\n",
       "      <td>US,</td>\n",
       "    </tr>\n",
       "    <tr>\n",
       "      <th>42477</th>\n",
       "      <td>Zone-tailed Hawk\\r\\n[Buteo albonotatus]</td>\n",
       "      <td>2004 [105]\\r\\nCount Date: 1/2/2005\\r\\n# Partic...</td>\n",
       "      <td>1</td>\n",
       "      <td>0.0036</td>\n",
       "      <td>US,</td>\n",
       "    </tr>\n",
       "    <tr>\n",
       "      <th>42478</th>\n",
       "      <td>Zone-tailed Hawk\\r\\n[Buteo albonotatus]</td>\n",
       "      <td>2005 [106]\\r\\nCount Date: 12/31/2005\\r\\n# Part...</td>\n",
       "      <td>1</td>\n",
       "      <td>0.0040</td>\n",
       "      <td>US,</td>\n",
       "    </tr>\n",
       "    <tr>\n",
       "      <th>42479</th>\n",
       "      <td>Zone-tailed Hawk\\r\\n[Buteo albonotatus]</td>\n",
       "      <td>2006 [107]\\r\\nCount Date: 12/30/2006\\r\\n# Part...</td>\n",
       "      <td>1</td>\n",
       "      <td>0.0030</td>\n",
       "      <td>US,</td>\n",
       "    </tr>\n",
       "    <tr>\n",
       "      <th>42492</th>\n",
       "      <td>Zone-tailed Hawk\\r\\n[Buteo albonotatus]</td>\n",
       "      <td>2019 [120]\\r\\nCount Date: 1/4/2020\\r\\n# Partic...</td>\n",
       "      <td>cw</td>\n",
       "      <td>0.0000</td>\n",
       "      <td>NaN</td>\n",
       "    </tr>\n",
       "  </tbody>\n",
       "</table>\n",
       "<p>16141 rows × 5 columns</p>\n",
       "</div>"
      ],
      "text/plain": [
       "                                            COM_NAME  \\\n",
       "0      Acorn Woodpecker\\r\\n[Melanerpes formicivorus]   \n",
       "1      Acorn Woodpecker\\r\\n[Melanerpes formicivorus]   \n",
       "2      Acorn Woodpecker\\r\\n[Melanerpes formicivorus]   \n",
       "3      Acorn Woodpecker\\r\\n[Melanerpes formicivorus]   \n",
       "4      Acorn Woodpecker\\r\\n[Melanerpes formicivorus]   \n",
       "...                                              ...   \n",
       "42476        Zone-tailed Hawk\\r\\n[Buteo albonotatus]   \n",
       "42477        Zone-tailed Hawk\\r\\n[Buteo albonotatus]   \n",
       "42478        Zone-tailed Hawk\\r\\n[Buteo albonotatus]   \n",
       "42479        Zone-tailed Hawk\\r\\n[Buteo albonotatus]   \n",
       "42492        Zone-tailed Hawk\\r\\n[Buteo albonotatus]   \n",
       "\n",
       "                                               CountYear how_manyCW  \\\n",
       "0      1902 [3]\\r\\nCount Date: 12/26/1902\\r\\n# Partic...          3   \n",
       "1      1910 [11]\\r\\nCount Date: 12/24/1910\\r\\n# Parti...          1   \n",
       "2      1911 [12]\\r\\nCount Date: 12/23/1911\\r\\n# Parti...         30   \n",
       "3      1912 [13]\\r\\nCount Date: 12/26/1912\\r\\n# Parti...         25   \n",
       "4      1913 [14]\\r\\nCount Date: 12/27/1913\\r\\n# Parti...         20   \n",
       "...                                                  ...        ...   \n",
       "42476  2003 [104]\\r\\nCount Date: 1/3/2004\\r\\n# Partic...          1   \n",
       "42477  2004 [105]\\r\\nCount Date: 1/2/2005\\r\\n# Partic...          1   \n",
       "42478  2005 [106]\\r\\nCount Date: 12/31/2005\\r\\n# Part...          1   \n",
       "42479  2006 [107]\\r\\nCount Date: 12/30/2006\\r\\n# Part...          1   \n",
       "42492  2019 [120]\\r\\nCount Date: 1/4/2020\\r\\n# Partic...         cw   \n",
       "\n",
       "      NumberByPartyHours Flags  \n",
       "0                 0.0000   NaN  \n",
       "1                 0.0000   NaN  \n",
       "2                 0.0000   NaN  \n",
       "3                 0.0000   NaN  \n",
       "4                 0.0000   NaN  \n",
       "...                  ...   ...  \n",
       "42476             0.0030   US,  \n",
       "42477             0.0036   US,  \n",
       "42478             0.0040   US,  \n",
       "42479             0.0030   US,  \n",
       "42492             0.0000   NaN  \n",
       "\n",
       "[16141 rows x 5 columns]"
      ]
     },
     "execution_count": 18,
     "metadata": {},
     "output_type": "execute_result"
    }
   ],
   "source": [
    "bird_counts[bird_counts['NumberByPartyHours'].isnull() == False]"
   ]
  },
  {
   "cell_type": "markdown",
   "metadata": {},
   "source": [
    "Issue and justification: When working with numerical data, we should always look at the data types of the columns and check for null values and any other values that may indicate null or missing data. There are 26,356 rows in which the \"how_manyCW\" column has the value NaN. There are not any rows in which the value is 0. This suggests that when a specific type of bird was not seen in a given year, it was entered as NaN rather than as 0.  \n",
    "Also, there are 292 entries in which a bird was seen during \"count week\" but not see on \"count day\" and is therefore labeled as \"cw\" (see https://www.audubon.org/conservation/science/christmas-bird-count/christmas-bird-count-compiler-resources for the documentation on \"cw\")."
   ]
  },
  {
   "cell_type": "markdown",
   "metadata": {},
   "source": [
    "### Quality Issue 3:"
   ]
  },
  {
   "cell_type": "code",
   "execution_count": 19,
   "metadata": {},
   "outputs": [
    {
     "data": {
      "text/html": [
       "<div>\n",
       "<style scoped>\n",
       "    .dataframe tbody tr th:only-of-type {\n",
       "        vertical-align: middle;\n",
       "    }\n",
       "\n",
       "    .dataframe tbody tr th {\n",
       "        vertical-align: top;\n",
       "    }\n",
       "\n",
       "    .dataframe thead th {\n",
       "        text-align: right;\n",
       "    }\n",
       "</style>\n",
       "<table border=\"1\" class=\"dataframe\">\n",
       "  <thead>\n",
       "    <tr style=\"text-align: right;\">\n",
       "      <th></th>\n",
       "      <th>COM_NAME</th>\n",
       "      <th>CountYear</th>\n",
       "      <th>how_manyCW</th>\n",
       "      <th>NumberByPartyHours</th>\n",
       "      <th>Flags</th>\n",
       "    </tr>\n",
       "  </thead>\n",
       "  <tbody>\n",
       "    <tr>\n",
       "      <th>91</th>\n",
       "      <td>African Collared-Dove\\r\\n[Streptopelia roseogr...</td>\n",
       "      <td>1902 [3]\\r\\nCount Date: 12/26/1902\\r\\n# Partic...</td>\n",
       "      <td>NaN</td>\n",
       "      <td>NaN</td>\n",
       "      <td>NaN</td>\n",
       "    </tr>\n",
       "    <tr>\n",
       "      <th>92</th>\n",
       "      <td>African Collared-Dove\\r\\n[Streptopelia roseogr...</td>\n",
       "      <td>1910 [11]\\r\\nCount Date: 12/24/1910\\r\\n# Parti...</td>\n",
       "      <td>NaN</td>\n",
       "      <td>NaN</td>\n",
       "      <td>NaN</td>\n",
       "    </tr>\n",
       "    <tr>\n",
       "      <th>93</th>\n",
       "      <td>African Collared-Dove\\r\\n[Streptopelia roseogr...</td>\n",
       "      <td>1911 [12]\\r\\nCount Date: 12/23/1911\\r\\n# Parti...</td>\n",
       "      <td>NaN</td>\n",
       "      <td>NaN</td>\n",
       "      <td>NaN</td>\n",
       "    </tr>\n",
       "    <tr>\n",
       "      <th>94</th>\n",
       "      <td>African Collared-Dove\\r\\n[Streptopelia roseogr...</td>\n",
       "      <td>1912 [13]\\r\\nCount Date: 12/26/1912\\r\\n# Parti...</td>\n",
       "      <td>NaN</td>\n",
       "      <td>NaN</td>\n",
       "      <td>NaN</td>\n",
       "    </tr>\n",
       "    <tr>\n",
       "      <th>95</th>\n",
       "      <td>African Collared-Dove\\r\\n[Streptopelia roseogr...</td>\n",
       "      <td>1913 [14]\\r\\nCount Date: 12/27/1913\\r\\n# Parti...</td>\n",
       "      <td>NaN</td>\n",
       "      <td>NaN</td>\n",
       "      <td>NaN</td>\n",
       "    </tr>\n",
       "    <tr>\n",
       "      <th>...</th>\n",
       "      <td>...</td>\n",
       "      <td>...</td>\n",
       "      <td>...</td>\n",
       "      <td>...</td>\n",
       "      <td>...</td>\n",
       "    </tr>\n",
       "    <tr>\n",
       "      <th>42491</th>\n",
       "      <td>Zone-tailed Hawk\\r\\n[Buteo albonotatus]</td>\n",
       "      <td>2018 [119]\\r\\nCount Date: 1/5/2019\\r\\n# Partic...</td>\n",
       "      <td>NaN</td>\n",
       "      <td>NaN</td>\n",
       "      <td>NaN</td>\n",
       "    </tr>\n",
       "    <tr>\n",
       "      <th>42493</th>\n",
       "      <td>Zone-tailed Hawk\\r\\n[Buteo albonotatus]</td>\n",
       "      <td>2020 [121]\\r\\nCount Date: 1/2/2021\\r\\n# Partic...</td>\n",
       "      <td>NaN</td>\n",
       "      <td>NaN</td>\n",
       "      <td>NaN</td>\n",
       "    </tr>\n",
       "    <tr>\n",
       "      <th>42494</th>\n",
       "      <td>Zone-tailed Hawk\\r\\n[Buteo albonotatus]</td>\n",
       "      <td>2021 [122]\\r\\nCount Date: 1/1/2022\\r\\n# Partic...</td>\n",
       "      <td>NaN</td>\n",
       "      <td>NaN</td>\n",
       "      <td>NaN</td>\n",
       "    </tr>\n",
       "    <tr>\n",
       "      <th>42495</th>\n",
       "      <td>Zone-tailed Hawk\\r\\n[Buteo albonotatus]</td>\n",
       "      <td>2022 [123]\\r\\nCount Date: 12/31/2022\\r\\n# Part...</td>\n",
       "      <td>NaN</td>\n",
       "      <td>NaN</td>\n",
       "      <td>NaN</td>\n",
       "    </tr>\n",
       "    <tr>\n",
       "      <th>42496</th>\n",
       "      <td>Zone-tailed Hawk\\r\\n[Buteo albonotatus]</td>\n",
       "      <td>2023 [124]\\r\\nCount Date: 12/30/2023\\r\\n# Part...</td>\n",
       "      <td>NaN</td>\n",
       "      <td>NaN</td>\n",
       "      <td>NaN</td>\n",
       "    </tr>\n",
       "  </tbody>\n",
       "</table>\n",
       "<p>26356 rows × 5 columns</p>\n",
       "</div>"
      ],
      "text/plain": [
       "                                                COM_NAME  \\\n",
       "91     African Collared-Dove\\r\\n[Streptopelia roseogr...   \n",
       "92     African Collared-Dove\\r\\n[Streptopelia roseogr...   \n",
       "93     African Collared-Dove\\r\\n[Streptopelia roseogr...   \n",
       "94     African Collared-Dove\\r\\n[Streptopelia roseogr...   \n",
       "95     African Collared-Dove\\r\\n[Streptopelia roseogr...   \n",
       "...                                                  ...   \n",
       "42491            Zone-tailed Hawk\\r\\n[Buteo albonotatus]   \n",
       "42493            Zone-tailed Hawk\\r\\n[Buteo albonotatus]   \n",
       "42494            Zone-tailed Hawk\\r\\n[Buteo albonotatus]   \n",
       "42495            Zone-tailed Hawk\\r\\n[Buteo albonotatus]   \n",
       "42496            Zone-tailed Hawk\\r\\n[Buteo albonotatus]   \n",
       "\n",
       "                                               CountYear how_manyCW  \\\n",
       "91     1902 [3]\\r\\nCount Date: 12/26/1902\\r\\n# Partic...        NaN   \n",
       "92     1910 [11]\\r\\nCount Date: 12/24/1910\\r\\n# Parti...        NaN   \n",
       "93     1911 [12]\\r\\nCount Date: 12/23/1911\\r\\n# Parti...        NaN   \n",
       "94     1912 [13]\\r\\nCount Date: 12/26/1912\\r\\n# Parti...        NaN   \n",
       "95     1913 [14]\\r\\nCount Date: 12/27/1913\\r\\n# Parti...        NaN   \n",
       "...                                                  ...        ...   \n",
       "42491  2018 [119]\\r\\nCount Date: 1/5/2019\\r\\n# Partic...        NaN   \n",
       "42493  2020 [121]\\r\\nCount Date: 1/2/2021\\r\\n# Partic...        NaN   \n",
       "42494  2021 [122]\\r\\nCount Date: 1/1/2022\\r\\n# Partic...        NaN   \n",
       "42495  2022 [123]\\r\\nCount Date: 12/31/2022\\r\\n# Part...        NaN   \n",
       "42496  2023 [124]\\r\\nCount Date: 12/30/2023\\r\\n# Part...        NaN   \n",
       "\n",
       "      NumberByPartyHours Flags  \n",
       "91                   NaN   NaN  \n",
       "92                   NaN   NaN  \n",
       "93                   NaN   NaN  \n",
       "94                   NaN   NaN  \n",
       "95                   NaN   NaN  \n",
       "...                  ...   ...  \n",
       "42491                NaN   NaN  \n",
       "42493                NaN   NaN  \n",
       "42494                NaN   NaN  \n",
       "42495                NaN   NaN  \n",
       "42496                NaN   NaN  \n",
       "\n",
       "[26356 rows x 5 columns]"
      ]
     },
     "execution_count": 19,
     "metadata": {},
     "output_type": "execute_result"
    }
   ],
   "source": [
    "bird_counts[bird_counts['NumberByPartyHours'].isnull()]"
   ]
  },
  {
   "cell_type": "markdown",
   "metadata": {},
   "source": [
    "Issue and justification: There are 26,356 rows in which the \"NumberByPartyHours\" column has the value NaN. These seem to align with the rows in which the value in the 'how_manyCW' column is NaN. By the same reasoning we used for that column, these NaN values should be 0s."
   ]
  },
  {
   "cell_type": "markdown",
   "metadata": {
    "id": "lXhGiYyiwwKN"
   },
   "source": [
    "### Tidiness Issue 1:"
   ]
  },
  {
   "cell_type": "code",
   "execution_count": 20,
   "metadata": {
    "id": "fleC5rORI0Xl"
   },
   "outputs": [
    {
     "data": {
      "text/html": [
       "<div>\n",
       "<style scoped>\n",
       "    .dataframe tbody tr th:only-of-type {\n",
       "        vertical-align: middle;\n",
       "    }\n",
       "\n",
       "    .dataframe tbody tr th {\n",
       "        vertical-align: top;\n",
       "    }\n",
       "\n",
       "    .dataframe thead th {\n",
       "        text-align: right;\n",
       "    }\n",
       "</style>\n",
       "<table border=\"1\" class=\"dataframe\">\n",
       "  <thead>\n",
       "    <tr style=\"text-align: right;\">\n",
       "      <th></th>\n",
       "      <th>COM_NAME</th>\n",
       "      <th>CountYear</th>\n",
       "      <th>how_manyCW</th>\n",
       "      <th>NumberByPartyHours</th>\n",
       "      <th>Flags</th>\n",
       "    </tr>\n",
       "  </thead>\n",
       "  <tbody>\n",
       "    <tr>\n",
       "      <th>0</th>\n",
       "      <td>Acorn Woodpecker\\r\\n[Melanerpes formicivorus]</td>\n",
       "      <td>1902 [3]\\r\\nCount Date: 12/26/1902\\r\\n# Partic...</td>\n",
       "      <td>3</td>\n",
       "      <td>0.0000</td>\n",
       "      <td>NaN</td>\n",
       "    </tr>\n",
       "    <tr>\n",
       "      <th>1</th>\n",
       "      <td>Acorn Woodpecker\\r\\n[Melanerpes formicivorus]</td>\n",
       "      <td>1910 [11]\\r\\nCount Date: 12/24/1910\\r\\n# Parti...</td>\n",
       "      <td>1</td>\n",
       "      <td>0.0000</td>\n",
       "      <td>NaN</td>\n",
       "    </tr>\n",
       "    <tr>\n",
       "      <th>2</th>\n",
       "      <td>Acorn Woodpecker\\r\\n[Melanerpes formicivorus]</td>\n",
       "      <td>1911 [12]\\r\\nCount Date: 12/23/1911\\r\\n# Parti...</td>\n",
       "      <td>30</td>\n",
       "      <td>0.0000</td>\n",
       "      <td>NaN</td>\n",
       "    </tr>\n",
       "    <tr>\n",
       "      <th>3</th>\n",
       "      <td>Acorn Woodpecker\\r\\n[Melanerpes formicivorus]</td>\n",
       "      <td>1912 [13]\\r\\nCount Date: 12/26/1912\\r\\n# Parti...</td>\n",
       "      <td>25</td>\n",
       "      <td>0.0000</td>\n",
       "      <td>NaN</td>\n",
       "    </tr>\n",
       "    <tr>\n",
       "      <th>4</th>\n",
       "      <td>Acorn Woodpecker\\r\\n[Melanerpes formicivorus]</td>\n",
       "      <td>1913 [14]\\r\\nCount Date: 12/27/1913\\r\\n# Parti...</td>\n",
       "      <td>20</td>\n",
       "      <td>0.0000</td>\n",
       "      <td>NaN</td>\n",
       "    </tr>\n",
       "    <tr>\n",
       "      <th>5</th>\n",
       "      <td>Acorn Woodpecker\\r\\n[Melanerpes formicivorus]</td>\n",
       "      <td>1914 [15]\\r\\nCount Date: 12/26/1914\\r\\n# Parti...</td>\n",
       "      <td>20</td>\n",
       "      <td>0.0000</td>\n",
       "      <td>NaN</td>\n",
       "    </tr>\n",
       "    <tr>\n",
       "      <th>6</th>\n",
       "      <td>Acorn Woodpecker\\r\\n[Melanerpes formicivorus]</td>\n",
       "      <td>1915 [16]\\r\\nCount Date: 12/27/1915\\r\\n# Parti...</td>\n",
       "      <td>20</td>\n",
       "      <td>0.0000</td>\n",
       "      <td>NaN</td>\n",
       "    </tr>\n",
       "    <tr>\n",
       "      <th>7</th>\n",
       "      <td>Acorn Woodpecker\\r\\n[Melanerpes formicivorus]</td>\n",
       "      <td>1917 [18]\\r\\nCount Date: 12/26/1917\\r\\n# Parti...</td>\n",
       "      <td>14</td>\n",
       "      <td>0.0000</td>\n",
       "      <td>NaN</td>\n",
       "    </tr>\n",
       "    <tr>\n",
       "      <th>8</th>\n",
       "      <td>Acorn Woodpecker\\r\\n[Melanerpes formicivorus]</td>\n",
       "      <td>1919 [20]\\r\\nCount Date: 12/24/1919\\r\\n# Parti...</td>\n",
       "      <td>30</td>\n",
       "      <td>0.0000</td>\n",
       "      <td>NaN</td>\n",
       "    </tr>\n",
       "    <tr>\n",
       "      <th>9</th>\n",
       "      <td>Acorn Woodpecker\\r\\n[Melanerpes formicivorus]</td>\n",
       "      <td>1920 [21]\\r\\nCount Date: 12/24/1920\\r\\n# Parti...</td>\n",
       "      <td>8</td>\n",
       "      <td>0.0000</td>\n",
       "      <td>NaN</td>\n",
       "    </tr>\n",
       "  </tbody>\n",
       "</table>\n",
       "</div>"
      ],
      "text/plain": [
       "                                        COM_NAME  \\\n",
       "0  Acorn Woodpecker\\r\\n[Melanerpes formicivorus]   \n",
       "1  Acorn Woodpecker\\r\\n[Melanerpes formicivorus]   \n",
       "2  Acorn Woodpecker\\r\\n[Melanerpes formicivorus]   \n",
       "3  Acorn Woodpecker\\r\\n[Melanerpes formicivorus]   \n",
       "4  Acorn Woodpecker\\r\\n[Melanerpes formicivorus]   \n",
       "5  Acorn Woodpecker\\r\\n[Melanerpes formicivorus]   \n",
       "6  Acorn Woodpecker\\r\\n[Melanerpes formicivorus]   \n",
       "7  Acorn Woodpecker\\r\\n[Melanerpes formicivorus]   \n",
       "8  Acorn Woodpecker\\r\\n[Melanerpes formicivorus]   \n",
       "9  Acorn Woodpecker\\r\\n[Melanerpes formicivorus]   \n",
       "\n",
       "                                           CountYear how_manyCW  \\\n",
       "0  1902 [3]\\r\\nCount Date: 12/26/1902\\r\\n# Partic...          3   \n",
       "1  1910 [11]\\r\\nCount Date: 12/24/1910\\r\\n# Parti...          1   \n",
       "2  1911 [12]\\r\\nCount Date: 12/23/1911\\r\\n# Parti...         30   \n",
       "3  1912 [13]\\r\\nCount Date: 12/26/1912\\r\\n# Parti...         25   \n",
       "4  1913 [14]\\r\\nCount Date: 12/27/1913\\r\\n# Parti...         20   \n",
       "5  1914 [15]\\r\\nCount Date: 12/26/1914\\r\\n# Parti...         20   \n",
       "6  1915 [16]\\r\\nCount Date: 12/27/1915\\r\\n# Parti...         20   \n",
       "7  1917 [18]\\r\\nCount Date: 12/26/1917\\r\\n# Parti...         14   \n",
       "8  1919 [20]\\r\\nCount Date: 12/24/1919\\r\\n# Parti...         30   \n",
       "9  1920 [21]\\r\\nCount Date: 12/24/1920\\r\\n# Parti...          8   \n",
       "\n",
       "  NumberByPartyHours Flags  \n",
       "0             0.0000   NaN  \n",
       "1             0.0000   NaN  \n",
       "2             0.0000   NaN  \n",
       "3             0.0000   NaN  \n",
       "4             0.0000   NaN  \n",
       "5             0.0000   NaN  \n",
       "6             0.0000   NaN  \n",
       "7             0.0000   NaN  \n",
       "8             0.0000   NaN  \n",
       "9             0.0000   NaN  "
      ]
     },
     "execution_count": 20,
     "metadata": {},
     "output_type": "execute_result"
    }
   ],
   "source": [
    "#visually look at how the data are organized\n",
    "bird_counts.head(10)"
   ]
  },
  {
   "cell_type": "code",
   "execution_count": 21,
   "metadata": {
    "id": "BTuQw7Rbsio4"
   },
   "outputs": [
    {
     "name": "stdout",
     "output_type": "stream",
     "text": [
      "<class 'pandas.core.frame.DataFrame'>\n",
      "RangeIndex: 42497 entries, 0 to 42496\n",
      "Data columns (total 5 columns):\n",
      " #   Column              Non-Null Count  Dtype \n",
      "---  ------              --------------  ----- \n",
      " 0   COM_NAME            42497 non-null  object\n",
      " 1   CountYear           42497 non-null  object\n",
      " 2   how_manyCW          16141 non-null  object\n",
      " 3   NumberByPartyHours  16141 non-null  object\n",
      " 4   Flags               682 non-null    object\n",
      "dtypes: object(5)\n",
      "memory usage: 1.6+ MB\n"
     ]
    }
   ],
   "source": [
    "bird_counts.info()"
   ]
  },
  {
   "cell_type": "markdown",
   "metadata": {},
   "source": [
    "Issue and justification: It is important to check the data types of the columns. The CountYear column is an object rather than an int or datetime object, and it contains the year of the bird count, date of the bird count, and extra information and characters. It should only contain the year of the count."
   ]
  },
  {
   "cell_type": "markdown",
   "metadata": {
    "id": "4ffMoRGSwzYj"
   },
   "source": [
    "### Tidiness Issue 2: "
   ]
  },
  {
   "cell_type": "code",
   "execution_count": 22,
   "metadata": {},
   "outputs": [
    {
     "data": {
      "text/html": [
       "<div>\n",
       "<style scoped>\n",
       "    .dataframe tbody tr th:only-of-type {\n",
       "        vertical-align: middle;\n",
       "    }\n",
       "\n",
       "    .dataframe tbody tr th {\n",
       "        vertical-align: top;\n",
       "    }\n",
       "\n",
       "    .dataframe thead th {\n",
       "        text-align: right;\n",
       "    }\n",
       "</style>\n",
       "<table border=\"1\" class=\"dataframe\">\n",
       "  <thead>\n",
       "    <tr style=\"text-align: right;\">\n",
       "      <th></th>\n",
       "      <th>COM_NAME</th>\n",
       "      <th>CountYear</th>\n",
       "      <th>how_manyCW</th>\n",
       "      <th>NumberByPartyHours</th>\n",
       "      <th>Flags</th>\n",
       "    </tr>\n",
       "  </thead>\n",
       "  <tbody>\n",
       "    <tr>\n",
       "      <th>0</th>\n",
       "      <td>Acorn Woodpecker\\r\\n[Melanerpes formicivorus]</td>\n",
       "      <td>1902 [3]\\r\\nCount Date: 12/26/1902\\r\\n# Partic...</td>\n",
       "      <td>3</td>\n",
       "      <td>0.0000</td>\n",
       "      <td>NaN</td>\n",
       "    </tr>\n",
       "    <tr>\n",
       "      <th>1</th>\n",
       "      <td>Acorn Woodpecker\\r\\n[Melanerpes formicivorus]</td>\n",
       "      <td>1910 [11]\\r\\nCount Date: 12/24/1910\\r\\n# Parti...</td>\n",
       "      <td>1</td>\n",
       "      <td>0.0000</td>\n",
       "      <td>NaN</td>\n",
       "    </tr>\n",
       "    <tr>\n",
       "      <th>2</th>\n",
       "      <td>Acorn Woodpecker\\r\\n[Melanerpes formicivorus]</td>\n",
       "      <td>1911 [12]\\r\\nCount Date: 12/23/1911\\r\\n# Parti...</td>\n",
       "      <td>30</td>\n",
       "      <td>0.0000</td>\n",
       "      <td>NaN</td>\n",
       "    </tr>\n",
       "    <tr>\n",
       "      <th>3</th>\n",
       "      <td>Acorn Woodpecker\\r\\n[Melanerpes formicivorus]</td>\n",
       "      <td>1912 [13]\\r\\nCount Date: 12/26/1912\\r\\n# Parti...</td>\n",
       "      <td>25</td>\n",
       "      <td>0.0000</td>\n",
       "      <td>NaN</td>\n",
       "    </tr>\n",
       "    <tr>\n",
       "      <th>4</th>\n",
       "      <td>Acorn Woodpecker\\r\\n[Melanerpes formicivorus]</td>\n",
       "      <td>1913 [14]\\r\\nCount Date: 12/27/1913\\r\\n# Parti...</td>\n",
       "      <td>20</td>\n",
       "      <td>0.0000</td>\n",
       "      <td>NaN</td>\n",
       "    </tr>\n",
       "  </tbody>\n",
       "</table>\n",
       "</div>"
      ],
      "text/plain": [
       "                                        COM_NAME  \\\n",
       "0  Acorn Woodpecker\\r\\n[Melanerpes formicivorus]   \n",
       "1  Acorn Woodpecker\\r\\n[Melanerpes formicivorus]   \n",
       "2  Acorn Woodpecker\\r\\n[Melanerpes formicivorus]   \n",
       "3  Acorn Woodpecker\\r\\n[Melanerpes formicivorus]   \n",
       "4  Acorn Woodpecker\\r\\n[Melanerpes formicivorus]   \n",
       "\n",
       "                                           CountYear how_manyCW  \\\n",
       "0  1902 [3]\\r\\nCount Date: 12/26/1902\\r\\n# Partic...          3   \n",
       "1  1910 [11]\\r\\nCount Date: 12/24/1910\\r\\n# Parti...          1   \n",
       "2  1911 [12]\\r\\nCount Date: 12/23/1911\\r\\n# Parti...         30   \n",
       "3  1912 [13]\\r\\nCount Date: 12/26/1912\\r\\n# Parti...         25   \n",
       "4  1913 [14]\\r\\nCount Date: 12/27/1913\\r\\n# Parti...         20   \n",
       "\n",
       "  NumberByPartyHours Flags  \n",
       "0             0.0000   NaN  \n",
       "1             0.0000   NaN  \n",
       "2             0.0000   NaN  \n",
       "3             0.0000   NaN  \n",
       "4             0.0000   NaN  "
      ]
     },
     "execution_count": 22,
     "metadata": {},
     "output_type": "execute_result"
    }
   ],
   "source": [
    "bird_counts.head()"
   ]
  },
  {
   "cell_type": "code",
   "execution_count": 23,
   "metadata": {},
   "outputs": [
    {
     "name": "stdout",
     "output_type": "stream",
     "text": [
      "<class 'pandas.core.frame.DataFrame'>\n",
      "RangeIndex: 42497 entries, 0 to 42496\n",
      "Data columns (total 5 columns):\n",
      " #   Column              Non-Null Count  Dtype \n",
      "---  ------              --------------  ----- \n",
      " 0   COM_NAME            42497 non-null  object\n",
      " 1   CountYear           42497 non-null  object\n",
      " 2   how_manyCW          16141 non-null  object\n",
      " 3   NumberByPartyHours  16141 non-null  object\n",
      " 4   Flags               682 non-null    object\n",
      "dtypes: object(5)\n",
      "memory usage: 1.6+ MB\n"
     ]
    }
   ],
   "source": [
    "#check the data types of the columns\n",
    "bird_counts.info()"
   ]
  },
  {
   "cell_type": "markdown",
   "metadata": {},
   "source": [
    "Issue and justification: The column \"how_manyCW\" is an object rather than an int, and the column 'NumberByPartyHours' is an object rather than a float."
   ]
  },
  {
   "cell_type": "markdown",
   "metadata": {},
   "source": [
    "### Tidiness Issue 3: "
   ]
  },
  {
   "cell_type": "code",
   "execution_count": 24,
   "metadata": {},
   "outputs": [
    {
     "data": {
      "text/html": [
       "<div>\n",
       "<style scoped>\n",
       "    .dataframe tbody tr th:only-of-type {\n",
       "        vertical-align: middle;\n",
       "    }\n",
       "\n",
       "    .dataframe tbody tr th {\n",
       "        vertical-align: top;\n",
       "    }\n",
       "\n",
       "    .dataframe thead th {\n",
       "        text-align: right;\n",
       "    }\n",
       "</style>\n",
       "<table border=\"1\" class=\"dataframe\">\n",
       "  <thead>\n",
       "    <tr style=\"text-align: right;\">\n",
       "      <th></th>\n",
       "      <th>COM_NAME</th>\n",
       "      <th>CountYear</th>\n",
       "      <th>how_manyCW</th>\n",
       "      <th>NumberByPartyHours</th>\n",
       "      <th>Flags</th>\n",
       "    </tr>\n",
       "  </thead>\n",
       "  <tbody>\n",
       "    <tr>\n",
       "      <th>0</th>\n",
       "      <td>Acorn Woodpecker\\r\\n[Melanerpes formicivorus]</td>\n",
       "      <td>1902 [3]\\r\\nCount Date: 12/26/1902\\r\\n# Partic...</td>\n",
       "      <td>3</td>\n",
       "      <td>0.0000</td>\n",
       "      <td>NaN</td>\n",
       "    </tr>\n",
       "    <tr>\n",
       "      <th>1</th>\n",
       "      <td>Acorn Woodpecker\\r\\n[Melanerpes formicivorus]</td>\n",
       "      <td>1910 [11]\\r\\nCount Date: 12/24/1910\\r\\n# Parti...</td>\n",
       "      <td>1</td>\n",
       "      <td>0.0000</td>\n",
       "      <td>NaN</td>\n",
       "    </tr>\n",
       "    <tr>\n",
       "      <th>2</th>\n",
       "      <td>Acorn Woodpecker\\r\\n[Melanerpes formicivorus]</td>\n",
       "      <td>1911 [12]\\r\\nCount Date: 12/23/1911\\r\\n# Parti...</td>\n",
       "      <td>30</td>\n",
       "      <td>0.0000</td>\n",
       "      <td>NaN</td>\n",
       "    </tr>\n",
       "    <tr>\n",
       "      <th>3</th>\n",
       "      <td>Acorn Woodpecker\\r\\n[Melanerpes formicivorus]</td>\n",
       "      <td>1912 [13]\\r\\nCount Date: 12/26/1912\\r\\n# Parti...</td>\n",
       "      <td>25</td>\n",
       "      <td>0.0000</td>\n",
       "      <td>NaN</td>\n",
       "    </tr>\n",
       "    <tr>\n",
       "      <th>4</th>\n",
       "      <td>Acorn Woodpecker\\r\\n[Melanerpes formicivorus]</td>\n",
       "      <td>1913 [14]\\r\\nCount Date: 12/27/1913\\r\\n# Parti...</td>\n",
       "      <td>20</td>\n",
       "      <td>0.0000</td>\n",
       "      <td>NaN</td>\n",
       "    </tr>\n",
       "  </tbody>\n",
       "</table>\n",
       "</div>"
      ],
      "text/plain": [
       "                                        COM_NAME  \\\n",
       "0  Acorn Woodpecker\\r\\n[Melanerpes formicivorus]   \n",
       "1  Acorn Woodpecker\\r\\n[Melanerpes formicivorus]   \n",
       "2  Acorn Woodpecker\\r\\n[Melanerpes formicivorus]   \n",
       "3  Acorn Woodpecker\\r\\n[Melanerpes formicivorus]   \n",
       "4  Acorn Woodpecker\\r\\n[Melanerpes formicivorus]   \n",
       "\n",
       "                                           CountYear how_manyCW  \\\n",
       "0  1902 [3]\\r\\nCount Date: 12/26/1902\\r\\n# Partic...          3   \n",
       "1  1910 [11]\\r\\nCount Date: 12/24/1910\\r\\n# Parti...          1   \n",
       "2  1911 [12]\\r\\nCount Date: 12/23/1911\\r\\n# Parti...         30   \n",
       "3  1912 [13]\\r\\nCount Date: 12/26/1912\\r\\n# Parti...         25   \n",
       "4  1913 [14]\\r\\nCount Date: 12/27/1913\\r\\n# Parti...         20   \n",
       "\n",
       "  NumberByPartyHours Flags  \n",
       "0             0.0000   NaN  \n",
       "1             0.0000   NaN  \n",
       "2             0.0000   NaN  \n",
       "3             0.0000   NaN  \n",
       "4             0.0000   NaN  "
      ]
     },
     "execution_count": 24,
     "metadata": {},
     "output_type": "execute_result"
    }
   ],
   "source": [
    "bird_counts.head()"
   ]
  },
  {
   "cell_type": "markdown",
   "metadata": {},
   "source": [
    "Issue and justification: The \"COM_NAME\" column contains the common name of the bird, the scientific name, and extra characters. This information should be split into a \"common name\" column and a \"scientific name\" column."
   ]
  },
  {
   "cell_type": "markdown",
   "metadata": {
    "id": "D6gmLnBttpCh"
   },
   "source": [
    "## 3. Clean data\n",
    "Clean the data to solve the 4 issues corresponding to data quality and tidiness found in the assessing step. **Make sure you include justifications for your cleaning decisions.**\n",
    "\n",
    "After the cleaning for each issue, please use **either** the visually or programatical method to validate the cleaning was succesful.\n",
    "\n",
    "At this stage, you are also expected to remove variables that are unnecessary for your analysis and combine your datasets. Depending on your datasets, you may choose to perform variable combination and elimination before or after the cleaning stage. Your dataset must have **at least** 4 variables after combining the data."
   ]
  },
  {
   "cell_type": "code",
   "execution_count": 25,
   "metadata": {},
   "outputs": [],
   "source": [
    "bird_counts_clean = bird_counts.copy()\n",
    "rain_data_clean = rain_data.copy()"
   ]
  },
  {
   "cell_type": "markdown",
   "metadata": {
    "id": "FmFhN52Yyn3l"
   },
   "source": [
    "### **Quality Issue 1: Data missing for 33 years**"
   ]
  },
  {
   "cell_type": "markdown",
   "metadata": {},
   "source": [
    "Justification: There isn't a good way to impute the values for the missing years, especially since there are long spans of missing years (ex. 1940-1960). However, we can still look for trends in the data we do have."
   ]
  },
  {
   "cell_type": "markdown",
   "metadata": {
    "id": "n_DAUbJrymBL"
   },
   "source": [
    "### **Quality Issue 2: NaN and cw in the \"how_manyCW\" column**"
   ]
  },
  {
   "cell_type": "code",
   "execution_count": 29,
   "metadata": {
    "id": "5Yfb-Yu5MTuE"
   },
   "outputs": [],
   "source": [
    "bird_counts_clean['how_manyCW'] = bird_counts_clean['how_manyCW'].fillna(0)"
   ]
  },
  {
   "cell_type": "code",
   "execution_count": 30,
   "metadata": {
    "id": "ionB2sRaMUmY"
   },
   "outputs": [
    {
     "data": {
      "text/html": [
       "<div>\n",
       "<style scoped>\n",
       "    .dataframe tbody tr th:only-of-type {\n",
       "        vertical-align: middle;\n",
       "    }\n",
       "\n",
       "    .dataframe tbody tr th {\n",
       "        vertical-align: top;\n",
       "    }\n",
       "\n",
       "    .dataframe thead th {\n",
       "        text-align: right;\n",
       "    }\n",
       "</style>\n",
       "<table border=\"1\" class=\"dataframe\">\n",
       "  <thead>\n",
       "    <tr style=\"text-align: right;\">\n",
       "      <th></th>\n",
       "      <th>COM_NAME</th>\n",
       "      <th>CountYear</th>\n",
       "      <th>how_manyCW</th>\n",
       "      <th>NumberByPartyHours</th>\n",
       "      <th>Flags</th>\n",
       "    </tr>\n",
       "  </thead>\n",
       "  <tbody>\n",
       "  </tbody>\n",
       "</table>\n",
       "</div>"
      ],
      "text/plain": [
       "Empty DataFrame\n",
       "Columns: [COM_NAME, CountYear, how_manyCW, NumberByPartyHours, Flags]\n",
       "Index: []"
      ]
     },
     "execution_count": 30,
     "metadata": {},
     "output_type": "execute_result"
    }
   ],
   "source": [
    "bird_counts_clean[bird_counts_clean['how_manyCW'].isnull()]"
   ]
  },
  {
   "cell_type": "code",
   "execution_count": 31,
   "metadata": {},
   "outputs": [
    {
     "data": {
      "text/html": [
       "<div>\n",
       "<style scoped>\n",
       "    .dataframe tbody tr th:only-of-type {\n",
       "        vertical-align: middle;\n",
       "    }\n",
       "\n",
       "    .dataframe tbody tr th {\n",
       "        vertical-align: top;\n",
       "    }\n",
       "\n",
       "    .dataframe thead th {\n",
       "        text-align: right;\n",
       "    }\n",
       "</style>\n",
       "<table border=\"1\" class=\"dataframe\">\n",
       "  <thead>\n",
       "    <tr style=\"text-align: right;\">\n",
       "      <th></th>\n",
       "      <th>COM_NAME</th>\n",
       "      <th>CountYear</th>\n",
       "      <th>how_manyCW</th>\n",
       "      <th>NumberByPartyHours</th>\n",
       "      <th>Flags</th>\n",
       "    </tr>\n",
       "  </thead>\n",
       "  <tbody>\n",
       "    <tr>\n",
       "      <th>91</th>\n",
       "      <td>African Collared-Dove\\r\\n[Streptopelia roseogr...</td>\n",
       "      <td>1902 [3]\\r\\nCount Date: 12/26/1902\\r\\n# Partic...</td>\n",
       "      <td>0</td>\n",
       "      <td>NaN</td>\n",
       "      <td>NaN</td>\n",
       "    </tr>\n",
       "    <tr>\n",
       "      <th>92</th>\n",
       "      <td>African Collared-Dove\\r\\n[Streptopelia roseogr...</td>\n",
       "      <td>1910 [11]\\r\\nCount Date: 12/24/1910\\r\\n# Parti...</td>\n",
       "      <td>0</td>\n",
       "      <td>NaN</td>\n",
       "      <td>NaN</td>\n",
       "    </tr>\n",
       "    <tr>\n",
       "      <th>93</th>\n",
       "      <td>African Collared-Dove\\r\\n[Streptopelia roseogr...</td>\n",
       "      <td>1911 [12]\\r\\nCount Date: 12/23/1911\\r\\n# Parti...</td>\n",
       "      <td>0</td>\n",
       "      <td>NaN</td>\n",
       "      <td>NaN</td>\n",
       "    </tr>\n",
       "    <tr>\n",
       "      <th>94</th>\n",
       "      <td>African Collared-Dove\\r\\n[Streptopelia roseogr...</td>\n",
       "      <td>1912 [13]\\r\\nCount Date: 12/26/1912\\r\\n# Parti...</td>\n",
       "      <td>0</td>\n",
       "      <td>NaN</td>\n",
       "      <td>NaN</td>\n",
       "    </tr>\n",
       "    <tr>\n",
       "      <th>95</th>\n",
       "      <td>African Collared-Dove\\r\\n[Streptopelia roseogr...</td>\n",
       "      <td>1913 [14]\\r\\nCount Date: 12/27/1913\\r\\n# Parti...</td>\n",
       "      <td>0</td>\n",
       "      <td>NaN</td>\n",
       "      <td>NaN</td>\n",
       "    </tr>\n",
       "    <tr>\n",
       "      <th>...</th>\n",
       "      <td>...</td>\n",
       "      <td>...</td>\n",
       "      <td>...</td>\n",
       "      <td>...</td>\n",
       "      <td>...</td>\n",
       "    </tr>\n",
       "    <tr>\n",
       "      <th>42491</th>\n",
       "      <td>Zone-tailed Hawk\\r\\n[Buteo albonotatus]</td>\n",
       "      <td>2018 [119]\\r\\nCount Date: 1/5/2019\\r\\n# Partic...</td>\n",
       "      <td>0</td>\n",
       "      <td>NaN</td>\n",
       "      <td>NaN</td>\n",
       "    </tr>\n",
       "    <tr>\n",
       "      <th>42493</th>\n",
       "      <td>Zone-tailed Hawk\\r\\n[Buteo albonotatus]</td>\n",
       "      <td>2020 [121]\\r\\nCount Date: 1/2/2021\\r\\n# Partic...</td>\n",
       "      <td>0</td>\n",
       "      <td>NaN</td>\n",
       "      <td>NaN</td>\n",
       "    </tr>\n",
       "    <tr>\n",
       "      <th>42494</th>\n",
       "      <td>Zone-tailed Hawk\\r\\n[Buteo albonotatus]</td>\n",
       "      <td>2021 [122]\\r\\nCount Date: 1/1/2022\\r\\n# Partic...</td>\n",
       "      <td>0</td>\n",
       "      <td>NaN</td>\n",
       "      <td>NaN</td>\n",
       "    </tr>\n",
       "    <tr>\n",
       "      <th>42495</th>\n",
       "      <td>Zone-tailed Hawk\\r\\n[Buteo albonotatus]</td>\n",
       "      <td>2022 [123]\\r\\nCount Date: 12/31/2022\\r\\n# Part...</td>\n",
       "      <td>0</td>\n",
       "      <td>NaN</td>\n",
       "      <td>NaN</td>\n",
       "    </tr>\n",
       "    <tr>\n",
       "      <th>42496</th>\n",
       "      <td>Zone-tailed Hawk\\r\\n[Buteo albonotatus]</td>\n",
       "      <td>2023 [124]\\r\\nCount Date: 12/30/2023\\r\\n# Part...</td>\n",
       "      <td>0</td>\n",
       "      <td>NaN</td>\n",
       "      <td>NaN</td>\n",
       "    </tr>\n",
       "  </tbody>\n",
       "</table>\n",
       "<p>26356 rows × 5 columns</p>\n",
       "</div>"
      ],
      "text/plain": [
       "                                                COM_NAME  \\\n",
       "91     African Collared-Dove\\r\\n[Streptopelia roseogr...   \n",
       "92     African Collared-Dove\\r\\n[Streptopelia roseogr...   \n",
       "93     African Collared-Dove\\r\\n[Streptopelia roseogr...   \n",
       "94     African Collared-Dove\\r\\n[Streptopelia roseogr...   \n",
       "95     African Collared-Dove\\r\\n[Streptopelia roseogr...   \n",
       "...                                                  ...   \n",
       "42491            Zone-tailed Hawk\\r\\n[Buteo albonotatus]   \n",
       "42493            Zone-tailed Hawk\\r\\n[Buteo albonotatus]   \n",
       "42494            Zone-tailed Hawk\\r\\n[Buteo albonotatus]   \n",
       "42495            Zone-tailed Hawk\\r\\n[Buteo albonotatus]   \n",
       "42496            Zone-tailed Hawk\\r\\n[Buteo albonotatus]   \n",
       "\n",
       "                                               CountYear how_manyCW  \\\n",
       "91     1902 [3]\\r\\nCount Date: 12/26/1902\\r\\n# Partic...          0   \n",
       "92     1910 [11]\\r\\nCount Date: 12/24/1910\\r\\n# Parti...          0   \n",
       "93     1911 [12]\\r\\nCount Date: 12/23/1911\\r\\n# Parti...          0   \n",
       "94     1912 [13]\\r\\nCount Date: 12/26/1912\\r\\n# Parti...          0   \n",
       "95     1913 [14]\\r\\nCount Date: 12/27/1913\\r\\n# Parti...          0   \n",
       "...                                                  ...        ...   \n",
       "42491  2018 [119]\\r\\nCount Date: 1/5/2019\\r\\n# Partic...          0   \n",
       "42493  2020 [121]\\r\\nCount Date: 1/2/2021\\r\\n# Partic...          0   \n",
       "42494  2021 [122]\\r\\nCount Date: 1/1/2022\\r\\n# Partic...          0   \n",
       "42495  2022 [123]\\r\\nCount Date: 12/31/2022\\r\\n# Part...          0   \n",
       "42496  2023 [124]\\r\\nCount Date: 12/30/2023\\r\\n# Part...          0   \n",
       "\n",
       "      NumberByPartyHours Flags  \n",
       "91                   NaN   NaN  \n",
       "92                   NaN   NaN  \n",
       "93                   NaN   NaN  \n",
       "94                   NaN   NaN  \n",
       "95                   NaN   NaN  \n",
       "...                  ...   ...  \n",
       "42491                NaN   NaN  \n",
       "42493                NaN   NaN  \n",
       "42494                NaN   NaN  \n",
       "42495                NaN   NaN  \n",
       "42496                NaN   NaN  \n",
       "\n",
       "[26356 rows x 5 columns]"
      ]
     },
     "execution_count": 31,
     "metadata": {},
     "output_type": "execute_result"
    }
   ],
   "source": [
    "bird_counts_clean[bird_counts_clean['how_manyCW'] == 0]"
   ]
  },
  {
   "cell_type": "code",
   "execution_count": 32,
   "metadata": {},
   "outputs": [],
   "source": [
    "bird_counts_clean['how_manyCW'] = pd.to_numeric(bird_counts_clean['how_manyCW'], errors='coerce').fillna(0)\n",
    "bird_counts_clean['how_manyCW'] = bird_counts_clean['how_manyCW'].astype('int64')"
   ]
  },
  {
   "cell_type": "code",
   "execution_count": 33,
   "metadata": {},
   "outputs": [
    {
     "data": {
      "text/html": [
       "<div>\n",
       "<style scoped>\n",
       "    .dataframe tbody tr th:only-of-type {\n",
       "        vertical-align: middle;\n",
       "    }\n",
       "\n",
       "    .dataframe tbody tr th {\n",
       "        vertical-align: top;\n",
       "    }\n",
       "\n",
       "    .dataframe thead th {\n",
       "        text-align: right;\n",
       "    }\n",
       "</style>\n",
       "<table border=\"1\" class=\"dataframe\">\n",
       "  <thead>\n",
       "    <tr style=\"text-align: right;\">\n",
       "      <th></th>\n",
       "      <th>COM_NAME</th>\n",
       "      <th>CountYear</th>\n",
       "      <th>how_manyCW</th>\n",
       "      <th>NumberByPartyHours</th>\n",
       "      <th>Flags</th>\n",
       "    </tr>\n",
       "  </thead>\n",
       "  <tbody>\n",
       "  </tbody>\n",
       "</table>\n",
       "</div>"
      ],
      "text/plain": [
       "Empty DataFrame\n",
       "Columns: [COM_NAME, CountYear, how_manyCW, NumberByPartyHours, Flags]\n",
       "Index: []"
      ]
     },
     "execution_count": 33,
     "metadata": {},
     "output_type": "execute_result"
    }
   ],
   "source": [
    "bird_counts_clean[bird_counts_clean['how_manyCW'] == 'cw']"
   ]
  },
  {
   "cell_type": "code",
   "execution_count": 34,
   "metadata": {},
   "outputs": [
    {
     "name": "stdout",
     "output_type": "stream",
     "text": [
      "<class 'pandas.core.frame.DataFrame'>\n",
      "RangeIndex: 42497 entries, 0 to 42496\n",
      "Data columns (total 5 columns):\n",
      " #   Column              Non-Null Count  Dtype \n",
      "---  ------              --------------  ----- \n",
      " 0   COM_NAME            42497 non-null  object\n",
      " 1   CountYear           42497 non-null  object\n",
      " 2   how_manyCW          42497 non-null  int64 \n",
      " 3   NumberByPartyHours  16141 non-null  object\n",
      " 4   Flags               682 non-null    object\n",
      "dtypes: int64(1), object(4)\n",
      "memory usage: 1.6+ MB\n"
     ]
    }
   ],
   "source": [
    "bird_counts_clean.info()"
   ]
  },
  {
   "cell_type": "markdown",
   "metadata": {},
   "source": [
    "Justification: Replace all the NaN and \"cw\" values with 0, as these birds were not seen on the day of the count. Only the data from the day of the count can be relied on to be complete according to the Audubon Society's published information (https://www.audubon.org/conservation/science/christmas-bird-count/christmas-bird-count-compiler-resources). In fixing this quality issue, we have also fixed part of the second tidiness issue (the 'how_manyCW' column was an object rather than an int)."
   ]
  },
  {
   "cell_type": "markdown",
   "metadata": {},
   "source": [
    "### **Quality Issue 3: NaN in the \"NumberByPartyHours\" column**"
   ]
  },
  {
   "cell_type": "code",
   "execution_count": 35,
   "metadata": {},
   "outputs": [],
   "source": [
    "bird_counts_clean['NumberByPartyHours'] = bird_counts_clean['NumberByPartyHours'].fillna(0)"
   ]
  },
  {
   "cell_type": "code",
   "execution_count": 36,
   "metadata": {},
   "outputs": [
    {
     "data": {
      "text/plain": [
       "0"
      ]
     },
     "execution_count": 36,
     "metadata": {},
     "output_type": "execute_result"
    }
   ],
   "source": [
    "bird_counts_clean['NumberByPartyHours'].isnull().sum()"
   ]
  },
  {
   "cell_type": "markdown",
   "metadata": {},
   "source": [
    "Justification: Replace all the NaN values with 0s since there weren't any of those species seen in those years."
   ]
  },
  {
   "cell_type": "markdown",
   "metadata": {
    "id": "bIUrrfSNyOPR"
   },
   "source": [
    "### **Tidiness Issue 1: \"CountYear\" column format and data type**"
   ]
  },
  {
   "cell_type": "code",
   "execution_count": 37,
   "metadata": {},
   "outputs": [
    {
     "data": {
      "text/html": [
       "<div>\n",
       "<style scoped>\n",
       "    .dataframe tbody tr th:only-of-type {\n",
       "        vertical-align: middle;\n",
       "    }\n",
       "\n",
       "    .dataframe tbody tr th {\n",
       "        vertical-align: top;\n",
       "    }\n",
       "\n",
       "    .dataframe thead th {\n",
       "        text-align: right;\n",
       "    }\n",
       "</style>\n",
       "<table border=\"1\" class=\"dataframe\">\n",
       "  <thead>\n",
       "    <tr style=\"text-align: right;\">\n",
       "      <th></th>\n",
       "      <th>COM_NAME</th>\n",
       "      <th>CountYear</th>\n",
       "      <th>how_manyCW</th>\n",
       "      <th>NumberByPartyHours</th>\n",
       "      <th>Flags</th>\n",
       "    </tr>\n",
       "  </thead>\n",
       "  <tbody>\n",
       "    <tr>\n",
       "      <th>0</th>\n",
       "      <td>Acorn Woodpecker\\r\\n[Melanerpes formicivorus]</td>\n",
       "      <td>1902 [3]\\r\\nCount Date: 12/26/1902\\r\\n# Partic...</td>\n",
       "      <td>3</td>\n",
       "      <td>0.0000</td>\n",
       "      <td>NaN</td>\n",
       "    </tr>\n",
       "    <tr>\n",
       "      <th>1</th>\n",
       "      <td>Acorn Woodpecker\\r\\n[Melanerpes formicivorus]</td>\n",
       "      <td>1910 [11]\\r\\nCount Date: 12/24/1910\\r\\n# Parti...</td>\n",
       "      <td>1</td>\n",
       "      <td>0.0000</td>\n",
       "      <td>NaN</td>\n",
       "    </tr>\n",
       "    <tr>\n",
       "      <th>2</th>\n",
       "      <td>Acorn Woodpecker\\r\\n[Melanerpes formicivorus]</td>\n",
       "      <td>1911 [12]\\r\\nCount Date: 12/23/1911\\r\\n# Parti...</td>\n",
       "      <td>30</td>\n",
       "      <td>0.0000</td>\n",
       "      <td>NaN</td>\n",
       "    </tr>\n",
       "    <tr>\n",
       "      <th>3</th>\n",
       "      <td>Acorn Woodpecker\\r\\n[Melanerpes formicivorus]</td>\n",
       "      <td>1912 [13]\\r\\nCount Date: 12/26/1912\\r\\n# Parti...</td>\n",
       "      <td>25</td>\n",
       "      <td>0.0000</td>\n",
       "      <td>NaN</td>\n",
       "    </tr>\n",
       "    <tr>\n",
       "      <th>4</th>\n",
       "      <td>Acorn Woodpecker\\r\\n[Melanerpes formicivorus]</td>\n",
       "      <td>1913 [14]\\r\\nCount Date: 12/27/1913\\r\\n# Parti...</td>\n",
       "      <td>20</td>\n",
       "      <td>0.0000</td>\n",
       "      <td>NaN</td>\n",
       "    </tr>\n",
       "  </tbody>\n",
       "</table>\n",
       "</div>"
      ],
      "text/plain": [
       "                                        COM_NAME  \\\n",
       "0  Acorn Woodpecker\\r\\n[Melanerpes formicivorus]   \n",
       "1  Acorn Woodpecker\\r\\n[Melanerpes formicivorus]   \n",
       "2  Acorn Woodpecker\\r\\n[Melanerpes formicivorus]   \n",
       "3  Acorn Woodpecker\\r\\n[Melanerpes formicivorus]   \n",
       "4  Acorn Woodpecker\\r\\n[Melanerpes formicivorus]   \n",
       "\n",
       "                                           CountYear  how_manyCW  \\\n",
       "0  1902 [3]\\r\\nCount Date: 12/26/1902\\r\\n# Partic...           3   \n",
       "1  1910 [11]\\r\\nCount Date: 12/24/1910\\r\\n# Parti...           1   \n",
       "2  1911 [12]\\r\\nCount Date: 12/23/1911\\r\\n# Parti...          30   \n",
       "3  1912 [13]\\r\\nCount Date: 12/26/1912\\r\\n# Parti...          25   \n",
       "4  1913 [14]\\r\\nCount Date: 12/27/1913\\r\\n# Parti...          20   \n",
       "\n",
       "  NumberByPartyHours Flags  \n",
       "0             0.0000   NaN  \n",
       "1             0.0000   NaN  \n",
       "2             0.0000   NaN  \n",
       "3             0.0000   NaN  \n",
       "4             0.0000   NaN  "
      ]
     },
     "execution_count": 37,
     "metadata": {},
     "output_type": "execute_result"
    }
   ],
   "source": [
    "bird_counts_clean.head()"
   ]
  },
  {
   "cell_type": "code",
   "execution_count": 38,
   "metadata": {
    "id": "fib0zAm333bn"
   },
   "outputs": [],
   "source": [
    "bird_counts_clean['CountYear'] = bird_counts_clean['CountYear'].str[0:4].astype('int16') \n"
   ]
  },
  {
   "cell_type": "code",
   "execution_count": 39,
   "metadata": {
    "id": "yhrnUGY_Nk8B"
   },
   "outputs": [
    {
     "data": {
      "text/html": [
       "<div>\n",
       "<style scoped>\n",
       "    .dataframe tbody tr th:only-of-type {\n",
       "        vertical-align: middle;\n",
       "    }\n",
       "\n",
       "    .dataframe tbody tr th {\n",
       "        vertical-align: top;\n",
       "    }\n",
       "\n",
       "    .dataframe thead th {\n",
       "        text-align: right;\n",
       "    }\n",
       "</style>\n",
       "<table border=\"1\" class=\"dataframe\">\n",
       "  <thead>\n",
       "    <tr style=\"text-align: right;\">\n",
       "      <th></th>\n",
       "      <th>COM_NAME</th>\n",
       "      <th>CountYear</th>\n",
       "      <th>how_manyCW</th>\n",
       "      <th>NumberByPartyHours</th>\n",
       "      <th>Flags</th>\n",
       "    </tr>\n",
       "  </thead>\n",
       "  <tbody>\n",
       "    <tr>\n",
       "      <th>0</th>\n",
       "      <td>Acorn Woodpecker\\r\\n[Melanerpes formicivorus]</td>\n",
       "      <td>1902</td>\n",
       "      <td>3</td>\n",
       "      <td>0.0000</td>\n",
       "      <td>NaN</td>\n",
       "    </tr>\n",
       "    <tr>\n",
       "      <th>1</th>\n",
       "      <td>Acorn Woodpecker\\r\\n[Melanerpes formicivorus]</td>\n",
       "      <td>1910</td>\n",
       "      <td>1</td>\n",
       "      <td>0.0000</td>\n",
       "      <td>NaN</td>\n",
       "    </tr>\n",
       "    <tr>\n",
       "      <th>2</th>\n",
       "      <td>Acorn Woodpecker\\r\\n[Melanerpes formicivorus]</td>\n",
       "      <td>1911</td>\n",
       "      <td>30</td>\n",
       "      <td>0.0000</td>\n",
       "      <td>NaN</td>\n",
       "    </tr>\n",
       "    <tr>\n",
       "      <th>3</th>\n",
       "      <td>Acorn Woodpecker\\r\\n[Melanerpes formicivorus]</td>\n",
       "      <td>1912</td>\n",
       "      <td>25</td>\n",
       "      <td>0.0000</td>\n",
       "      <td>NaN</td>\n",
       "    </tr>\n",
       "    <tr>\n",
       "      <th>4</th>\n",
       "      <td>Acorn Woodpecker\\r\\n[Melanerpes formicivorus]</td>\n",
       "      <td>1913</td>\n",
       "      <td>20</td>\n",
       "      <td>0.0000</td>\n",
       "      <td>NaN</td>\n",
       "    </tr>\n",
       "  </tbody>\n",
       "</table>\n",
       "</div>"
      ],
      "text/plain": [
       "                                        COM_NAME  CountYear  how_manyCW  \\\n",
       "0  Acorn Woodpecker\\r\\n[Melanerpes formicivorus]       1902           3   \n",
       "1  Acorn Woodpecker\\r\\n[Melanerpes formicivorus]       1910           1   \n",
       "2  Acorn Woodpecker\\r\\n[Melanerpes formicivorus]       1911          30   \n",
       "3  Acorn Woodpecker\\r\\n[Melanerpes formicivorus]       1912          25   \n",
       "4  Acorn Woodpecker\\r\\n[Melanerpes formicivorus]       1913          20   \n",
       "\n",
       "  NumberByPartyHours Flags  \n",
       "0             0.0000   NaN  \n",
       "1             0.0000   NaN  \n",
       "2             0.0000   NaN  \n",
       "3             0.0000   NaN  \n",
       "4             0.0000   NaN  "
      ]
     },
     "execution_count": 39,
     "metadata": {},
     "output_type": "execute_result"
    }
   ],
   "source": [
    "bird_counts_clean.head()"
   ]
  },
  {
   "cell_type": "code",
   "execution_count": 40,
   "metadata": {},
   "outputs": [
    {
     "name": "stdout",
     "output_type": "stream",
     "text": [
      "<class 'pandas.core.frame.DataFrame'>\n",
      "RangeIndex: 42497 entries, 0 to 42496\n",
      "Data columns (total 5 columns):\n",
      " #   Column              Non-Null Count  Dtype \n",
      "---  ------              --------------  ----- \n",
      " 0   COM_NAME            42497 non-null  object\n",
      " 1   CountYear           42497 non-null  int16 \n",
      " 2   how_manyCW          42497 non-null  int64 \n",
      " 3   NumberByPartyHours  42497 non-null  object\n",
      " 4   Flags               682 non-null    object\n",
      "dtypes: int16(1), int64(1), object(3)\n",
      "memory usage: 1.4+ MB\n"
     ]
    }
   ],
   "source": [
    "bird_counts_clean.info()"
   ]
  },
  {
   "cell_type": "markdown",
   "metadata": {},
   "source": [
    "Justification: We use the year listed first rather than the year included in the date of the count, because Audubon rules allow the count for any given year to take place in late December of that year or early January of the following year. We use ant int rather than a datetime to avoid the default date of January 1, which would be confusing since the counts usually take place in December. We also don't need datetime functionality, and using an int16 reduces memory usage compared to using a datetime object."
   ]
  },
  {
   "cell_type": "markdown",
   "metadata": {
    "id": "o51Bt8kwyTzk"
   },
   "source": [
    "### **Tidiness Issue 2: \"NumberByPartyHours\" column data type**"
   ]
  },
  {
   "cell_type": "code",
   "execution_count": 41,
   "metadata": {
    "id": "7zW8O5yx4Y9O"
   },
   "outputs": [],
   "source": [
    "bird_counts_clean['NumberByPartyHours'] = bird_counts_clean['NumberByPartyHours'].astype('float')"
   ]
  },
  {
   "cell_type": "code",
   "execution_count": 42,
   "metadata": {
    "id": "q6I_Sr7lxXi5"
   },
   "outputs": [
    {
     "name": "stdout",
     "output_type": "stream",
     "text": [
      "<class 'pandas.core.frame.DataFrame'>\n",
      "RangeIndex: 42497 entries, 0 to 42496\n",
      "Data columns (total 5 columns):\n",
      " #   Column              Non-Null Count  Dtype  \n",
      "---  ------              --------------  -----  \n",
      " 0   COM_NAME            42497 non-null  object \n",
      " 1   CountYear           42497 non-null  int16  \n",
      " 2   how_manyCW          42497 non-null  int64  \n",
      " 3   NumberByPartyHours  42497 non-null  float64\n",
      " 4   Flags               682 non-null    object \n",
      "dtypes: float64(1), int16(1), int64(1), object(2)\n",
      "memory usage: 1.4+ MB\n"
     ]
    }
   ],
   "source": [
    "bird_counts_clean.info()"
   ]
  },
  {
   "cell_type": "markdown",
   "metadata": {},
   "source": [
    "Justification: The values in the \"NumberByPartyHours\" column can be decimals, so the appropriate data type is a float. Note that the data type for the \"how_manyCW\" column was already fixed in the process of fixing a quality issue."
   ]
  },
  {
   "cell_type": "markdown",
   "metadata": {},
   "source": [
    "### **Tidiness Issue 3: \"COM_NAME\" column contains multiple values**"
   ]
  },
  {
   "cell_type": "code",
   "execution_count": 43,
   "metadata": {},
   "outputs": [
    {
     "data": {
      "text/html": [
       "<div>\n",
       "<style scoped>\n",
       "    .dataframe tbody tr th:only-of-type {\n",
       "        vertical-align: middle;\n",
       "    }\n",
       "\n",
       "    .dataframe tbody tr th {\n",
       "        vertical-align: top;\n",
       "    }\n",
       "\n",
       "    .dataframe thead th {\n",
       "        text-align: right;\n",
       "    }\n",
       "</style>\n",
       "<table border=\"1\" class=\"dataframe\">\n",
       "  <thead>\n",
       "    <tr style=\"text-align: right;\">\n",
       "      <th></th>\n",
       "      <th>COM_NAME</th>\n",
       "      <th>CountYear</th>\n",
       "      <th>how_manyCW</th>\n",
       "      <th>NumberByPartyHours</th>\n",
       "      <th>Flags</th>\n",
       "    </tr>\n",
       "  </thead>\n",
       "  <tbody>\n",
       "    <tr>\n",
       "      <th>0</th>\n",
       "      <td>Acorn Woodpecker\\r\\n[Melanerpes formicivorus]</td>\n",
       "      <td>1902</td>\n",
       "      <td>3</td>\n",
       "      <td>0.0</td>\n",
       "      <td>NaN</td>\n",
       "    </tr>\n",
       "    <tr>\n",
       "      <th>1</th>\n",
       "      <td>Acorn Woodpecker\\r\\n[Melanerpes formicivorus]</td>\n",
       "      <td>1910</td>\n",
       "      <td>1</td>\n",
       "      <td>0.0</td>\n",
       "      <td>NaN</td>\n",
       "    </tr>\n",
       "    <tr>\n",
       "      <th>2</th>\n",
       "      <td>Acorn Woodpecker\\r\\n[Melanerpes formicivorus]</td>\n",
       "      <td>1911</td>\n",
       "      <td>30</td>\n",
       "      <td>0.0</td>\n",
       "      <td>NaN</td>\n",
       "    </tr>\n",
       "    <tr>\n",
       "      <th>3</th>\n",
       "      <td>Acorn Woodpecker\\r\\n[Melanerpes formicivorus]</td>\n",
       "      <td>1912</td>\n",
       "      <td>25</td>\n",
       "      <td>0.0</td>\n",
       "      <td>NaN</td>\n",
       "    </tr>\n",
       "    <tr>\n",
       "      <th>4</th>\n",
       "      <td>Acorn Woodpecker\\r\\n[Melanerpes formicivorus]</td>\n",
       "      <td>1913</td>\n",
       "      <td>20</td>\n",
       "      <td>0.0</td>\n",
       "      <td>NaN</td>\n",
       "    </tr>\n",
       "  </tbody>\n",
       "</table>\n",
       "</div>"
      ],
      "text/plain": [
       "                                        COM_NAME  CountYear  how_manyCW  \\\n",
       "0  Acorn Woodpecker\\r\\n[Melanerpes formicivorus]       1902           3   \n",
       "1  Acorn Woodpecker\\r\\n[Melanerpes formicivorus]       1910           1   \n",
       "2  Acorn Woodpecker\\r\\n[Melanerpes formicivorus]       1911          30   \n",
       "3  Acorn Woodpecker\\r\\n[Melanerpes formicivorus]       1912          25   \n",
       "4  Acorn Woodpecker\\r\\n[Melanerpes formicivorus]       1913          20   \n",
       "\n",
       "   NumberByPartyHours Flags  \n",
       "0                 0.0   NaN  \n",
       "1                 0.0   NaN  \n",
       "2                 0.0   NaN  \n",
       "3                 0.0   NaN  \n",
       "4                 0.0   NaN  "
      ]
     },
     "execution_count": 43,
     "metadata": {},
     "output_type": "execute_result"
    }
   ],
   "source": [
    "bird_counts_clean.head()"
   ]
  },
  {
   "cell_type": "code",
   "execution_count": 44,
   "metadata": {},
   "outputs": [],
   "source": [
    "temp = bird_counts_clean['COM_NAME'].str.split('\\r\\n', expand=True)\n",
    "temp.columns = ['common_name', 'scientific_name']\n",
    "bird_counts_clean = pd.concat([temp, bird_counts_clean],axis=1)\n",
    "bird_counts_clean['scientific_name'] = bird_counts_clean['scientific_name'].str[1:-1] #remove the brackets around the scientific name\n",
    "bird_counts_clean = bird_counts_clean.drop(\"COM_NAME\",axis=1)"
   ]
  },
  {
   "cell_type": "code",
   "execution_count": 45,
   "metadata": {},
   "outputs": [
    {
     "data": {
      "text/html": [
       "<div>\n",
       "<style scoped>\n",
       "    .dataframe tbody tr th:only-of-type {\n",
       "        vertical-align: middle;\n",
       "    }\n",
       "\n",
       "    .dataframe tbody tr th {\n",
       "        vertical-align: top;\n",
       "    }\n",
       "\n",
       "    .dataframe thead th {\n",
       "        text-align: right;\n",
       "    }\n",
       "</style>\n",
       "<table border=\"1\" class=\"dataframe\">\n",
       "  <thead>\n",
       "    <tr style=\"text-align: right;\">\n",
       "      <th></th>\n",
       "      <th>common_name</th>\n",
       "      <th>scientific_name</th>\n",
       "      <th>CountYear</th>\n",
       "      <th>how_manyCW</th>\n",
       "      <th>NumberByPartyHours</th>\n",
       "      <th>Flags</th>\n",
       "    </tr>\n",
       "  </thead>\n",
       "  <tbody>\n",
       "    <tr>\n",
       "      <th>0</th>\n",
       "      <td>Acorn Woodpecker</td>\n",
       "      <td>Melanerpes formicivorus</td>\n",
       "      <td>1902</td>\n",
       "      <td>3</td>\n",
       "      <td>0.0</td>\n",
       "      <td>NaN</td>\n",
       "    </tr>\n",
       "    <tr>\n",
       "      <th>1</th>\n",
       "      <td>Acorn Woodpecker</td>\n",
       "      <td>Melanerpes formicivorus</td>\n",
       "      <td>1910</td>\n",
       "      <td>1</td>\n",
       "      <td>0.0</td>\n",
       "      <td>NaN</td>\n",
       "    </tr>\n",
       "    <tr>\n",
       "      <th>2</th>\n",
       "      <td>Acorn Woodpecker</td>\n",
       "      <td>Melanerpes formicivorus</td>\n",
       "      <td>1911</td>\n",
       "      <td>30</td>\n",
       "      <td>0.0</td>\n",
       "      <td>NaN</td>\n",
       "    </tr>\n",
       "    <tr>\n",
       "      <th>3</th>\n",
       "      <td>Acorn Woodpecker</td>\n",
       "      <td>Melanerpes formicivorus</td>\n",
       "      <td>1912</td>\n",
       "      <td>25</td>\n",
       "      <td>0.0</td>\n",
       "      <td>NaN</td>\n",
       "    </tr>\n",
       "    <tr>\n",
       "      <th>4</th>\n",
       "      <td>Acorn Woodpecker</td>\n",
       "      <td>Melanerpes formicivorus</td>\n",
       "      <td>1913</td>\n",
       "      <td>20</td>\n",
       "      <td>0.0</td>\n",
       "      <td>NaN</td>\n",
       "    </tr>\n",
       "  </tbody>\n",
       "</table>\n",
       "</div>"
      ],
      "text/plain": [
       "        common_name          scientific_name  CountYear  how_manyCW  \\\n",
       "0  Acorn Woodpecker  Melanerpes formicivorus       1902           3   \n",
       "1  Acorn Woodpecker  Melanerpes formicivorus       1910           1   \n",
       "2  Acorn Woodpecker  Melanerpes formicivorus       1911          30   \n",
       "3  Acorn Woodpecker  Melanerpes formicivorus       1912          25   \n",
       "4  Acorn Woodpecker  Melanerpes formicivorus       1913          20   \n",
       "\n",
       "   NumberByPartyHours Flags  \n",
       "0                 0.0   NaN  \n",
       "1                 0.0   NaN  \n",
       "2                 0.0   NaN  \n",
       "3                 0.0   NaN  \n",
       "4                 0.0   NaN  "
      ]
     },
     "execution_count": 45,
     "metadata": {},
     "output_type": "execute_result"
    }
   ],
   "source": [
    "bird_counts_clean.head()"
   ]
  },
  {
   "cell_type": "markdown",
   "metadata": {},
   "source": [
    "Justification: The common and scientific names are different variables, so they should be in different columns. It makes sense to have them as the first columns in the dataframe, so it is necessary to put them in a separate dataframe and then concatenate them with the main dataframe rather than just using split on the \"COM_NAME\" column, which would add them to the right of all the other columns."
   ]
  },
  {
   "cell_type": "markdown",
   "metadata": {},
   "source": [
    "### **Remove unnecessary variables and combine datasets**\n",
    "\n",
    "Depending on the datasets, you can also peform the combination before the cleaning steps."
   ]
  },
  {
   "cell_type": "code",
   "execution_count": 46,
   "metadata": {},
   "outputs": [],
   "source": [
    "bird_counts_clean = bird_counts_clean.drop(\"Flags\",axis=1)"
   ]
  },
  {
   "cell_type": "code",
   "execution_count": 47,
   "metadata": {},
   "outputs": [
    {
     "data": {
      "text/html": [
       "<div>\n",
       "<style scoped>\n",
       "    .dataframe tbody tr th:only-of-type {\n",
       "        vertical-align: middle;\n",
       "    }\n",
       "\n",
       "    .dataframe tbody tr th {\n",
       "        vertical-align: top;\n",
       "    }\n",
       "\n",
       "    .dataframe thead th {\n",
       "        text-align: right;\n",
       "    }\n",
       "</style>\n",
       "<table border=\"1\" class=\"dataframe\">\n",
       "  <thead>\n",
       "    <tr style=\"text-align: right;\">\n",
       "      <th></th>\n",
       "      <th>common_name</th>\n",
       "      <th>scientific_name</th>\n",
       "      <th>CountYear</th>\n",
       "      <th>how_manyCW</th>\n",
       "      <th>NumberByPartyHours</th>\n",
       "    </tr>\n",
       "  </thead>\n",
       "  <tbody>\n",
       "    <tr>\n",
       "      <th>0</th>\n",
       "      <td>Acorn Woodpecker</td>\n",
       "      <td>Melanerpes formicivorus</td>\n",
       "      <td>1902</td>\n",
       "      <td>3</td>\n",
       "      <td>0.0</td>\n",
       "    </tr>\n",
       "    <tr>\n",
       "      <th>1</th>\n",
       "      <td>Acorn Woodpecker</td>\n",
       "      <td>Melanerpes formicivorus</td>\n",
       "      <td>1910</td>\n",
       "      <td>1</td>\n",
       "      <td>0.0</td>\n",
       "    </tr>\n",
       "    <tr>\n",
       "      <th>2</th>\n",
       "      <td>Acorn Woodpecker</td>\n",
       "      <td>Melanerpes formicivorus</td>\n",
       "      <td>1911</td>\n",
       "      <td>30</td>\n",
       "      <td>0.0</td>\n",
       "    </tr>\n",
       "    <tr>\n",
       "      <th>3</th>\n",
       "      <td>Acorn Woodpecker</td>\n",
       "      <td>Melanerpes formicivorus</td>\n",
       "      <td>1912</td>\n",
       "      <td>25</td>\n",
       "      <td>0.0</td>\n",
       "    </tr>\n",
       "    <tr>\n",
       "      <th>4</th>\n",
       "      <td>Acorn Woodpecker</td>\n",
       "      <td>Melanerpes formicivorus</td>\n",
       "      <td>1913</td>\n",
       "      <td>20</td>\n",
       "      <td>0.0</td>\n",
       "    </tr>\n",
       "  </tbody>\n",
       "</table>\n",
       "</div>"
      ],
      "text/plain": [
       "        common_name          scientific_name  CountYear  how_manyCW  \\\n",
       "0  Acorn Woodpecker  Melanerpes formicivorus       1902           3   \n",
       "1  Acorn Woodpecker  Melanerpes formicivorus       1910           1   \n",
       "2  Acorn Woodpecker  Melanerpes formicivorus       1911          30   \n",
       "3  Acorn Woodpecker  Melanerpes formicivorus       1912          25   \n",
       "4  Acorn Woodpecker  Melanerpes formicivorus       1913          20   \n",
       "\n",
       "   NumberByPartyHours  \n",
       "0                 0.0  \n",
       "1                 0.0  \n",
       "2                 0.0  \n",
       "3                 0.0  \n",
       "4                 0.0  "
      ]
     },
     "execution_count": 47,
     "metadata": {},
     "output_type": "execute_result"
    }
   ],
   "source": [
    "bird_counts_clean.head()"
   ]
  },
  {
   "cell_type": "code",
   "execution_count": 48,
   "metadata": {},
   "outputs": [],
   "source": [
    "rain_data_clean = rain_data_clean.drop([\"station id\",\"code\",\"water year\"], axis=1)"
   ]
  },
  {
   "cell_type": "code",
   "execution_count": 49,
   "metadata": {},
   "outputs": [
    {
     "data": {
      "text/html": [
       "<div>\n",
       "<style scoped>\n",
       "    .dataframe tbody tr th:only-of-type {\n",
       "        vertical-align: middle;\n",
       "    }\n",
       "\n",
       "    .dataframe tbody tr th {\n",
       "        vertical-align: top;\n",
       "    }\n",
       "\n",
       "    .dataframe thead th {\n",
       "        text-align: right;\n",
       "    }\n",
       "</style>\n",
       "<table border=\"1\" class=\"dataframe\">\n",
       "  <thead>\n",
       "    <tr style=\"text-align: right;\">\n",
       "      <th></th>\n",
       "      <th>date</th>\n",
       "      <th>daily rain</th>\n",
       "    </tr>\n",
       "  </thead>\n",
       "  <tbody>\n",
       "    <tr>\n",
       "      <th>0</th>\n",
       "      <td>1899-10-11</td>\n",
       "      <td>0.12</td>\n",
       "    </tr>\n",
       "    <tr>\n",
       "      <th>1</th>\n",
       "      <td>1899-10-12</td>\n",
       "      <td>0.08</td>\n",
       "    </tr>\n",
       "    <tr>\n",
       "      <th>2</th>\n",
       "      <td>1899-10-13</td>\n",
       "      <td>1.30</td>\n",
       "    </tr>\n",
       "    <tr>\n",
       "      <th>3</th>\n",
       "      <td>1899-10-14</td>\n",
       "      <td>0.02</td>\n",
       "    </tr>\n",
       "    <tr>\n",
       "      <th>4</th>\n",
       "      <td>1899-10-21</td>\n",
       "      <td>0.46</td>\n",
       "    </tr>\n",
       "  </tbody>\n",
       "</table>\n",
       "</div>"
      ],
      "text/plain": [
       "        date  daily rain\n",
       "0 1899-10-11        0.12\n",
       "1 1899-10-12        0.08\n",
       "2 1899-10-13        1.30\n",
       "3 1899-10-14        0.02\n",
       "4 1899-10-21        0.46"
      ]
     },
     "execution_count": 49,
     "metadata": {},
     "output_type": "execute_result"
    }
   ],
   "source": [
    "rain_data_clean.head()"
   ]
  },
  {
   "cell_type": "markdown",
   "metadata": {},
   "source": [
    "Find the average daily rain for each year. While it normally makes more sense to use water years when looking at precipitation, the bird counts are done at the end of each calender year, so it makes sense to look at the rainfall since the last bird count. "
   ]
  },
  {
   "cell_type": "code",
   "execution_count": 50,
   "metadata": {},
   "outputs": [
    {
     "data": {
      "text/html": [
       "<div>\n",
       "<style scoped>\n",
       "    .dataframe tbody tr th:only-of-type {\n",
       "        vertical-align: middle;\n",
       "    }\n",
       "\n",
       "    .dataframe tbody tr th {\n",
       "        vertical-align: top;\n",
       "    }\n",
       "\n",
       "    .dataframe thead th {\n",
       "        text-align: right;\n",
       "    }\n",
       "</style>\n",
       "<table border=\"1\" class=\"dataframe\">\n",
       "  <thead>\n",
       "    <tr style=\"text-align: right;\">\n",
       "      <th></th>\n",
       "      <th>total_rain</th>\n",
       "    </tr>\n",
       "    <tr>\n",
       "      <th>date</th>\n",
       "      <th></th>\n",
       "    </tr>\n",
       "  </thead>\n",
       "  <tbody>\n",
       "    <tr>\n",
       "      <th>1899</th>\n",
       "      <td>6.38</td>\n",
       "    </tr>\n",
       "    <tr>\n",
       "      <th>1900</th>\n",
       "      <td>10.50</td>\n",
       "    </tr>\n",
       "    <tr>\n",
       "      <th>1901</th>\n",
       "      <td>15.27</td>\n",
       "    </tr>\n",
       "    <tr>\n",
       "      <th>1902</th>\n",
       "      <td>17.85</td>\n",
       "    </tr>\n",
       "    <tr>\n",
       "      <th>1903</th>\n",
       "      <td>13.06</td>\n",
       "    </tr>\n",
       "  </tbody>\n",
       "</table>\n",
       "</div>"
      ],
      "text/plain": [
       "      total_rain\n",
       "date            \n",
       "1899        6.38\n",
       "1900       10.50\n",
       "1901       15.27\n",
       "1902       17.85\n",
       "1903       13.06"
      ]
     },
     "execution_count": 50,
     "metadata": {},
     "output_type": "execute_result"
    }
   ],
   "source": [
    "yearly_rain = rain_data_clean.groupby(rain_data_clean[\"date\"].dt.year)[\"daily rain\"].sum().to_frame()\n",
    "yearly_rain.columns = [\"total_rain\"]\n",
    "yearly_rain.head()"
   ]
  },
  {
   "cell_type": "code",
   "execution_count": 51,
   "metadata": {},
   "outputs": [
    {
     "data": {
      "text/html": [
       "<div>\n",
       "<style scoped>\n",
       "    .dataframe tbody tr th:only-of-type {\n",
       "        vertical-align: middle;\n",
       "    }\n",
       "\n",
       "    .dataframe tbody tr th {\n",
       "        vertical-align: top;\n",
       "    }\n",
       "\n",
       "    .dataframe thead th {\n",
       "        text-align: right;\n",
       "    }\n",
       "</style>\n",
       "<table border=\"1\" class=\"dataframe\">\n",
       "  <thead>\n",
       "    <tr style=\"text-align: right;\">\n",
       "      <th></th>\n",
       "      <th>common_name</th>\n",
       "      <th>scientific_name</th>\n",
       "      <th>CountYear</th>\n",
       "      <th>how_manyCW</th>\n",
       "      <th>NumberByPartyHours</th>\n",
       "      <th>total_rain</th>\n",
       "    </tr>\n",
       "  </thead>\n",
       "  <tbody>\n",
       "    <tr>\n",
       "      <th>0</th>\n",
       "      <td>Acorn Woodpecker</td>\n",
       "      <td>Melanerpes formicivorus</td>\n",
       "      <td>1902</td>\n",
       "      <td>3</td>\n",
       "      <td>0.0</td>\n",
       "      <td>17.85</td>\n",
       "    </tr>\n",
       "    <tr>\n",
       "      <th>1</th>\n",
       "      <td>Acorn Woodpecker</td>\n",
       "      <td>Melanerpes formicivorus</td>\n",
       "      <td>1910</td>\n",
       "      <td>1</td>\n",
       "      <td>0.0</td>\n",
       "      <td>10.93</td>\n",
       "    </tr>\n",
       "    <tr>\n",
       "      <th>2</th>\n",
       "      <td>Acorn Woodpecker</td>\n",
       "      <td>Melanerpes formicivorus</td>\n",
       "      <td>1911</td>\n",
       "      <td>30</td>\n",
       "      <td>0.0</td>\n",
       "      <td>30.74</td>\n",
       "    </tr>\n",
       "    <tr>\n",
       "      <th>3</th>\n",
       "      <td>Acorn Woodpecker</td>\n",
       "      <td>Melanerpes formicivorus</td>\n",
       "      <td>1912</td>\n",
       "      <td>25</td>\n",
       "      <td>0.0</td>\n",
       "      <td>14.06</td>\n",
       "    </tr>\n",
       "    <tr>\n",
       "      <th>4</th>\n",
       "      <td>Acorn Woodpecker</td>\n",
       "      <td>Melanerpes formicivorus</td>\n",
       "      <td>1913</td>\n",
       "      <td>20</td>\n",
       "      <td>0.0</td>\n",
       "      <td>18.25</td>\n",
       "    </tr>\n",
       "  </tbody>\n",
       "</table>\n",
       "</div>"
      ],
      "text/plain": [
       "        common_name          scientific_name  CountYear  how_manyCW  \\\n",
       "0  Acorn Woodpecker  Melanerpes formicivorus       1902           3   \n",
       "1  Acorn Woodpecker  Melanerpes formicivorus       1910           1   \n",
       "2  Acorn Woodpecker  Melanerpes formicivorus       1911          30   \n",
       "3  Acorn Woodpecker  Melanerpes formicivorus       1912          25   \n",
       "4  Acorn Woodpecker  Melanerpes formicivorus       1913          20   \n",
       "\n",
       "   NumberByPartyHours  total_rain  \n",
       "0                 0.0       17.85  \n",
       "1                 0.0       10.93  \n",
       "2                 0.0       30.74  \n",
       "3                 0.0       14.06  \n",
       "4                 0.0       18.25  "
      ]
     },
     "execution_count": 51,
     "metadata": {},
     "output_type": "execute_result"
    }
   ],
   "source": [
    "merged_df = pd.merge(bird_counts_clean, yearly_rain, left_on=\"CountYear\", right_index=True)\n",
    "merged_df.head()"
   ]
  },
  {
   "cell_type": "markdown",
   "metadata": {
    "id": "F42urHuzttjF"
   },
   "source": [
    "## 4. Update your data store\n",
    "Update your local database/data store with the cleaned data, following best practices for storing your cleaned data:\n",
    "\n",
    "- Must maintain different instances / versions of data (raw and cleaned data)\n",
    "- Must name the dataset files informatively\n",
    "- Ensure both the raw and cleaned data is saved to your database/data store"
   ]
  },
  {
   "cell_type": "code",
   "execution_count": 52,
   "metadata": {
    "id": "V3uay7EJUV_L"
   },
   "outputs": [],
   "source": [
    "merged_df.to_csv('result/bird_count_and_rain_data_cleaned.csv', index=False, encoding=\"utf-8\")"
   ]
  },
  {
   "cell_type": "markdown",
   "metadata": {
    "id": "cGy_yddGtzhM"
   },
   "source": [
    "## 5. Answer the research question\n",
    "\n",
    "### **5.1:** Define and answer the research question \n",
    "Going back to the problem statement in step 1, use the cleaned data to answer the question you raised. Produce **at least** two visualizations using the cleaned data and explain how they help you answer the question."
   ]
  },
  {
   "cell_type": "markdown",
   "metadata": {
    "id": "gjedE4s4ZkEd"
   },
   "source": [
    "*Research question:* I want to look at trends in bird populations in Santa Barbara, California, over time. I also want to explore whether or not there is a correlation between annual rainfall and the size of bird populations."
   ]
  },
  {
   "cell_type": "code",
   "execution_count": 53,
   "metadata": {
    "id": "Lkw3rW9kZmOm"
   },
   "outputs": [
    {
     "data": {
      "text/plain": [
       "Text(0.5, 1.0, 'Annual Rainfall Over Time')"
      ]
     },
     "execution_count": 53,
     "metadata": {},
     "output_type": "execute_result"
    },
    {
     "data": {
      "image/png": "[encoded data removed]",
      "text/plain": [
       "<Figure size 640x480 with 1 Axes>"
      ]
     },
     "metadata": {},
     "output_type": "display_data"
    }
   ],
   "source": [
    "#Visualize annual precipitation over time\n",
    "#Use a scatter plot rather than aa line graph to avoid misleading lines for yeats when data is missing\n",
    "df_sorted = merged_df.sort_values(by='CountYear')\n",
    "rain_plot = df_sorted.plot(x='CountYear', y='total_rain', kind='scatter')\n",
    "rain_plot.set_xlabel('Year')\n",
    "rain_plot.set_ylabel('Total Annual Rainfall (inches)')\n",
    "rain_plot.set_title('Annual Rainfall Over Time')"
   ]
  },
  {
   "cell_type": "markdown",
   "metadata": {},
   "source": [
    "The plot shows that there isn't a clear overall increase or decrease in rainfall over time, but that the variance in annual rainfall has increased over time."
   ]
  },
  {
   "cell_type": "code",
   "execution_count": 48,
   "metadata": {},
   "outputs": [
    {
     "data": {
      "text/html": [
       "<div>\n",
       "<style scoped>\n",
       "    .dataframe tbody tr th:only-of-type {\n",
       "        vertical-align: middle;\n",
       "    }\n",
       "\n",
       "    .dataframe tbody tr th {\n",
       "        vertical-align: top;\n",
       "    }\n",
       "\n",
       "    .dataframe thead th {\n",
       "        text-align: right;\n",
       "    }\n",
       "</style>\n",
       "<table border=\"1\" class=\"dataframe\">\n",
       "  <thead>\n",
       "    <tr style=\"text-align: right;\">\n",
       "      <th></th>\n",
       "      <th>CountYear</th>\n",
       "      <th>total_count</th>\n",
       "      <th>total_by_party_hours</th>\n",
       "      <th>total_rain</th>\n",
       "    </tr>\n",
       "  </thead>\n",
       "  <tbody>\n",
       "    <tr>\n",
       "      <th>0</th>\n",
       "      <td>1902</td>\n",
       "      <td>399</td>\n",
       "      <td>0.0</td>\n",
       "      <td>17.85</td>\n",
       "    </tr>\n",
       "    <tr>\n",
       "      <th>1</th>\n",
       "      <td>1910</td>\n",
       "      <td>4247</td>\n",
       "      <td>0.0</td>\n",
       "      <td>10.93</td>\n",
       "    </tr>\n",
       "    <tr>\n",
       "      <th>2</th>\n",
       "      <td>1911</td>\n",
       "      <td>6704</td>\n",
       "      <td>0.0</td>\n",
       "      <td>30.74</td>\n",
       "    </tr>\n",
       "    <tr>\n",
       "      <th>3</th>\n",
       "      <td>1912</td>\n",
       "      <td>9166</td>\n",
       "      <td>0.0</td>\n",
       "      <td>14.06</td>\n",
       "    </tr>\n",
       "    <tr>\n",
       "      <th>4</th>\n",
       "      <td>1913</td>\n",
       "      <td>7831</td>\n",
       "      <td>0.0</td>\n",
       "      <td>18.25</td>\n",
       "    </tr>\n",
       "  </tbody>\n",
       "</table>\n",
       "</div>"
      ],
      "text/plain": [
       "   CountYear  total_count  total_by_party_hours  total_rain\n",
       "0       1902          399                   0.0       17.85\n",
       "1       1910         4247                   0.0       10.93\n",
       "2       1911         6704                   0.0       30.74\n",
       "3       1912         9166                   0.0       14.06\n",
       "4       1913         7831                   0.0       18.25"
      ]
     },
     "execution_count": 48,
     "metadata": {},
     "output_type": "execute_result"
    }
   ],
   "source": [
    "aggregated_by_year = merged_df.groupby(\"CountYear\").agg(\n",
    "    total_count=('how_manyCW', 'sum'),\n",
    "    total_by_party_hours=('NumberByPartyHours', 'sum'), \n",
    "    total_rain=('total_rain', 'mean')\n",
    ")\n",
    "aggregated_by_year = aggregated_by_year.reset_index()\n",
    "aggregated_by_year.head()"
   ]
  },
  {
   "cell_type": "code",
   "execution_count": 49,
   "metadata": {},
   "outputs": [
    {
     "data": {
      "text/html": [
       "<div>\n",
       "<style scoped>\n",
       "    .dataframe tbody tr th:only-of-type {\n",
       "        vertical-align: middle;\n",
       "    }\n",
       "\n",
       "    .dataframe tbody tr th {\n",
       "        vertical-align: top;\n",
       "    }\n",
       "\n",
       "    .dataframe thead th {\n",
       "        text-align: right;\n",
       "    }\n",
       "</style>\n",
       "<table border=\"1\" class=\"dataframe\">\n",
       "  <thead>\n",
       "    <tr style=\"text-align: right;\">\n",
       "      <th></th>\n",
       "      <th>CountYear</th>\n",
       "      <th>total_count</th>\n",
       "      <th>total_by_party_hours</th>\n",
       "      <th>total_rain</th>\n",
       "    </tr>\n",
       "  </thead>\n",
       "  <tbody>\n",
       "    <tr>\n",
       "      <th>28</th>\n",
       "      <td>1961</td>\n",
       "      <td>14035</td>\n",
       "      <td>483.9654</td>\n",
       "      <td>8.180000</td>\n",
       "    </tr>\n",
       "    <tr>\n",
       "      <th>29</th>\n",
       "      <td>1962</td>\n",
       "      <td>27446</td>\n",
       "      <td>280.0607</td>\n",
       "      <td>21.350000</td>\n",
       "    </tr>\n",
       "    <tr>\n",
       "      <th>30</th>\n",
       "      <td>1963</td>\n",
       "      <td>38251</td>\n",
       "      <td>273.2201</td>\n",
       "      <td>18.350000</td>\n",
       "    </tr>\n",
       "    <tr>\n",
       "      <th>31</th>\n",
       "      <td>1964</td>\n",
       "      <td>45129</td>\n",
       "      <td>334.2882</td>\n",
       "      <td>12.190000</td>\n",
       "    </tr>\n",
       "    <tr>\n",
       "      <th>32</th>\n",
       "      <td>1965</td>\n",
       "      <td>40067</td>\n",
       "      <td>325.7473</td>\n",
       "      <td>21.890000</td>\n",
       "    </tr>\n",
       "    <tr>\n",
       "      <th>...</th>\n",
       "      <td>...</td>\n",
       "      <td>...</td>\n",
       "      <td>...</td>\n",
       "      <td>...</td>\n",
       "    </tr>\n",
       "    <tr>\n",
       "      <th>86</th>\n",
       "      <td>2019</td>\n",
       "      <td>30538</td>\n",
       "      <td>95.5797</td>\n",
       "      <td>30.600000</td>\n",
       "    </tr>\n",
       "    <tr>\n",
       "      <th>87</th>\n",
       "      <td>2020</td>\n",
       "      <td>29631</td>\n",
       "      <td>82.7460</td>\n",
       "      <td>10.120000</td>\n",
       "    </tr>\n",
       "    <tr>\n",
       "      <th>88</th>\n",
       "      <td>2021</td>\n",
       "      <td>31639</td>\n",
       "      <td>98.5634</td>\n",
       "      <td>16.220000</td>\n",
       "    </tr>\n",
       "    <tr>\n",
       "      <th>89</th>\n",
       "      <td>2022</td>\n",
       "      <td>21022</td>\n",
       "      <td>85.8587</td>\n",
       "      <td>9.050000</td>\n",
       "    </tr>\n",
       "    <tr>\n",
       "      <th>90</th>\n",
       "      <td>2023</td>\n",
       "      <td>26126</td>\n",
       "      <td>92.9756</td>\n",
       "      <td>38.009999</td>\n",
       "    </tr>\n",
       "  </tbody>\n",
       "</table>\n",
       "<p>63 rows × 4 columns</p>\n",
       "</div>"
      ],
      "text/plain": [
       "    CountYear  total_count  total_by_party_hours  total_rain\n",
       "28       1961        14035              483.9654    8.180000\n",
       "29       1962        27446              280.0607   21.350000\n",
       "30       1963        38251              273.2201   18.350000\n",
       "31       1964        45129              334.2882   12.190000\n",
       "32       1965        40067              325.7473   21.890000\n",
       "..        ...          ...                   ...         ...\n",
       "86       2019        30538               95.5797   30.600000\n",
       "87       2020        29631               82.7460   10.120000\n",
       "88       2021        31639               98.5634   16.220000\n",
       "89       2022        21022               85.8587    9.050000\n",
       "90       2023        26126               92.9756   38.009999\n",
       "\n",
       "[63 rows x 4 columns]"
      ]
     },
     "execution_count": 49,
     "metadata": {},
     "output_type": "execute_result"
    }
   ],
   "source": [
    "aggregated_by_year[aggregated_by_year['total_by_party_hours'] != 0]"
   ]
  },
  {
   "cell_type": "code",
   "execution_count": 50,
   "metadata": {},
   "outputs": [
    {
     "data": {
      "text/plain": [
       "Text(0.5, 1.0, 'Birds Counted By Party Hours Over Time')"
      ]
     },
     "execution_count": 50,
     "metadata": {},
     "output_type": "execute_result"
    },
    {
     "data": {
      "image/png": "[encoded data removed]",
      "text/plain": [
       "<Figure size 640x480 with 1 Axes>"
      ]
     },
     "metadata": {},
     "output_type": "display_data"
    }
   ],
   "source": [
    "#Visualize the total birds counted by party hours over time.\n",
    "#Using the birds per party hour feature helps control for the differing \n",
    "#number of party hours each year which affects how many birds are counted. \n",
    "#However, it also means that there aren't any non-zero values until 1961, \n",
    "#significantly shrinking the time period over which we can detect trends.\n",
    "count_plot = aggregated_by_year.plot(x='CountYear', y='total_by_party_hours', kind='scatter')\n",
    "count_plot.set_xlabel('Year')\n",
    "count_plot.set_ylabel('Total Number of Birds Counted By Party Hours')\n",
    "count_plot.set_title('Birds Counted By Party Hours Over Time')"
   ]
  },
  {
   "cell_type": "markdown",
   "metadata": {},
   "source": [
    "This shows that there was a significant decline in the number of birds counted per party hour in the 60s and 70s. From 1980 onwards there was an overall decline, but with periods of increases. It is unclear why there were no birds counted by party hours before 1961."
   ]
  },
  {
   "cell_type": "code",
   "execution_count": 52,
   "metadata": {},
   "outputs": [
    {
     "data": {
      "text/plain": [
       "Text(0.5, 1.0, 'Birds Counted Over Time')"
      ]
     },
     "execution_count": 52,
     "metadata": {},
     "output_type": "execute_result"
    },
    {
     "data": {
      "image/png": "[encoded data removed]",
      "text/plain": [
       "<Figure size 640x480 with 1 Axes>"
      ]
     },
     "metadata": {},
     "output_type": "display_data"
    }
   ],
   "source": [
    "#Check for any interesting trends in the total number of birds counted over \n",
    "#time. This also allows us to look at bird count data from the years before 1961.\n",
    "count_plot = aggregated_by_year.plot(x='CountYear', y='total_count', kind='scatter')\n",
    "count_plot.set_xlabel('Year')\n",
    "count_plot.set_ylabel('Total Number of Birds Counted')\n",
    "count_plot.set_title('Birds Counted Over Time')"
   ]
  },
  {
   "cell_type": "code",
   "execution_count": 51,
   "metadata": {},
   "outputs": [
    {
     "data": {
      "text/plain": [
       "Text(0.5, 1.0, 'Birds Counted By Party Hours vs Annual Rainfall')"
      ]
     },
     "execution_count": 51,
     "metadata": {},
     "output_type": "execute_result"
    },
    {
     "data": {
      "image/png": "[encoded data removed]",
      "text/plain": [
       "<Figure size 640x480 with 1 Axes>"
      ]
     },
     "metadata": {},
     "output_type": "display_data"
    }
   ],
   "source": [
    "#Plot the total number of birds countned by party hour vs the rainfall\n",
    "count_vs_rain = aggregated_by_year.plot(x='total_rain', y='total_by_party_hours', kind='scatter')\n",
    "count_vs_rain.set_xlabel('Total Annual Rainfall (inches)')\n",
    "count_vs_rain.set_ylabel('Total Number of Birds Counted By Party Hours')\n",
    "count_vs_rain.set_title('Birds Counted By Party Hours vs Annual Rainfall')"
   ]
  },
  {
   "cell_type": "markdown",
   "metadata": {},
   "source": [
    "This shows that there isn't a noticeable correlation between total annual rainfall and the number of birds counted by party hours."
   ]
  },
  {
   "cell_type": "code",
   "execution_count": 53,
   "metadata": {},
   "outputs": [
    {
     "data": {
      "text/plain": [
       "Text(0.5, 1.0, 'Birds Counted vs Annual Rainfall')"
      ]
     },
     "execution_count": 53,
     "metadata": {},
     "output_type": "execute_result"
    },
    {
     "data": {
      "image/png": "[encoded data removed]",
      "text/plain": [
       "<Figure size 640x480 with 1 Axes>"
      ]
     },
     "metadata": {},
     "output_type": "display_data"
    }
   ],
   "source": [
    "#Check for a correlation between the number of birds counted and the annual rainfall\n",
    "raw_count_vs_rain = aggregated_by_year.plot(x='total_rain', y='total_count', kind='scatter')\n",
    "raw_count_vs_rain.set_xlabel('Total Annual Rainfall (inches)')\n",
    "raw_count_vs_rain.set_ylabel('Total Number of Birds Counted')\n",
    "raw_count_vs_rain.set_title('Birds Counted vs Annual Rainfall')"
   ]
  },
  {
   "cell_type": "markdown",
   "metadata": {},
   "source": [
    "This shows that there isn't a noticeable correlation between total annual rainfall and the number of birds counted."
   ]
  },
  {
   "cell_type": "markdown",
   "metadata": {},
   "source": [
    "*Answer to research question:* There is not a strong correlation between total annual rainfall and the number of birds counted or the number of birds counted by party hour. This suggests that the total annual rainfall does not signifiantly impact bird population sizes."
   ]
  },
  {
   "cell_type": "markdown",
   "metadata": {
    "id": "0ezWXXZVj-TP"
   },
   "source": [
    "### **5.2:** Reflection\n",
    "In 2-4 sentences, if you had more time to complete the project, what actions would you take? For example, which data quality and structural issues would you look into further, and what research questions would you further explore?"
   ]
  },
  {
   "cell_type": "markdown",
   "metadata": {
    "id": "XB3RBDG5kFe1"
   },
   "source": [
    "*Answer:* If I had more time I would rename the columns of the data frames to follow a standard format. I would also further explore the data by checking for correlations between individual species and total annual rainfall as well as looking for trends for individual species that do not math the overall trends. I would also explore correlations between bird populations and other factors that may influence them, such as average temperature, temperature extremes, and use of DDT in Santa Barbara."
   ]
  }
 ],
 "metadata": {
  "colab": {
   "provenance": []
  },
  "kernelspec": {
   "display_name": "Python 3 (ipykernel)",
   "language": "python",
   "name": "python3"
  },
  "language_info": {
   "codemirror_mode": {
    "name": "ipython",
    "version": 3
   },
   "file_extension": ".py",
   "mimetype": "text/x-python",
   "name": "python",
   "nbconvert_exporter": "python",
   "pygments_lexer": "ipython3",
   "version": "3.10.11"
  }
 },
 "nbformat": 4,
 "nbformat_minor": 1
}
